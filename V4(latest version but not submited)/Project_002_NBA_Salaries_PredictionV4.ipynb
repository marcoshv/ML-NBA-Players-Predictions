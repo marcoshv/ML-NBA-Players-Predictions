{
  "cells": [
    {
      "cell_type": "markdown",
      "id": "3d08028c-be52-4d84-a995-34b690c3e8a5",
      "metadata": {
        "id": "3d08028c-be52-4d84-a995-34b690c3e8a5"
      },
      "source": [
        "# AnyoneAI - Project II\n",
        "\n",
        "# Making Predictions with NBA data"
      ]
    },
    {
      "cell_type": "markdown",
      "id": "4ff2f3cb-7e1a-4705-bce7-44a56c0113e1",
      "metadata": {
        "id": "4ff2f3cb-7e1a-4705-bce7-44a56c0113e1"
      },
      "source": [
        "In our first project, we learned how to create our own datasets by using a public API, Python and Pandas. We're now going to explore how to make predictive models for regression and classification tasks using the Scikit Learn library"
      ]
    },
    {
      "cell_type": "markdown",
      "id": "5b732b5b-8fcc-4917-85a1-035bfc00a7dd",
      "metadata": {
        "id": "5b732b5b-8fcc-4917-85a1-035bfc00a7dd"
      },
      "source": [
        "The goals of this project are:\n",
        "- Learn how to define a prediction task\n",
        "- Selecting evaluation metrics and baseline models\n",
        "- Perform feature engineering and standarization\n",
        "- Training and using predictive models: Univariable and Multivariate Linear Regression, Classification\n",
        "- Understand how Gradient Descent works by implementing a Linear Regressor in python"
      ]
    },
    {
      "cell_type": "markdown",
      "id": "73bd1212-887d-4b10-a277-30156aaf410b",
      "metadata": {
        "id": "73bd1212-887d-4b10-a277-30156aaf410b",
        "tags": []
      },
      "source": [
        "## 1. Using Regression Models to Estimate players Salaries"
      ]
    },
    {
      "cell_type": "markdown",
      "id": "e51670c9-30ec-4dcf-b3f4-e5ba90019818",
      "metadata": {
        "id": "e51670c9-30ec-4dcf-b3f4-e5ba90019818"
      },
      "source": [
        "A player's salary can be explained by a lot of factors: \n",
        "\n",
        "- Years in the league: NBA contracts are limited in price, players have caps on how much money they make depending on their years playing in the league\n",
        "- Age: Highly correlated to the previous one, NBA players have a minimun age of 19 years\n",
        "- Draft position: players out of USA universities are selected each year through a process called draft, in which each team selects a player in a predefined order for 2 rounds (meaning only 60 players are drafted each year). A rookie contract value depends on the draft position. (Undrafted players have to negotiate a salary independently)\n",
        "- Performance in statistical categories: after the rookie contract, players can negotiate freely with teams, and usually statistical categories like points, rebounds and assists are extremely important.  \n",
        "- Team: Even though there are limits to what all teams can expend in players salary, they all allocate their resources differently, and can be more willing to pay the penalties incurred by exceeding those limitations.\n",
        "- Year in which the contract was signed: the mininum and maximum values of contracts possibles in the NBA changes depending on league revenue (television contracts, sponsorships, etc), so if the amount of money the teams make increases, players can negotiate bigger contracts.\n",
        "- Intangibles: players can be valued also in things that are not easily translated to a statistic, good defensive players might not always have great stats but can be extremely important for a team, the same can be said about veteran players that help young ones to learn and are good locker-room guys.\n",
        "\n",
        "But we're going to take a simplified approach, we'll try to use the data we already have to make the best estimator possible, and then we will analyze what went right and what could've gone wrong with our results."
      ]
    },
    {
      "cell_type": "markdown",
      "id": "6f110fec-8919-4427-89f7-b3e581176703",
      "metadata": {
        "id": "6f110fec-8919-4427-89f7-b3e581176703"
      },
      "source": [
        "### Analyzing our data"
      ]
    },
    {
      "cell_type": "code",
      "execution_count": 77,
      "id": "bafda55f-4831-49e4-abf6-cb8b2faf16ac",
      "metadata": {
        "id": "bafda55f-4831-49e4-abf6-cb8b2faf16ac"
      },
      "outputs": [],
      "source": [
        "import pandas as pd\n",
        "import numpy as np\n",
        "import sklearn as sk\n",
        "import seaborn as sns\n",
        "import matplotlib.pyplot as plt\n",
        "from sklearn.model_selection import train_test_split\n",
        "from sklearn.metrics import mean_absolute_error, accuracy_score, precision_score, recall_score, f1_score\n",
        "from sklearn.linear_model import SGDRegressor\n",
        "from sklearn.pipeline import make_pipeline\n",
        "from sklearn.preprocessing import  RobustScaler, StandardScaler, MinMaxScaler, OneHotEncoder \n",
        "from numpy import array\n",
        "from sklearn.tree import DecisionTreeRegressor\n",
        "from sklearn.linear_model import LogisticRegression\n",
        "from imblearn.over_sampling import SMOTE, SMOTENC\n",
        "sns.set()\n"
      ]
    },
    {
      "cell_type": "code",
      "execution_count": 78,
      "id": "232c5f1e",
      "metadata": {},
      "outputs": [],
      "source": [
        "data = pd.read_csv(\"https://raw.githubusercontent.com/anyoneai/notebooks/main/datasets/project2_players_df.csv\")\n",
        "data.to_csv(\"nba_player_dataset_project2.csv\", index=False)"
      ]
    },
    {
      "cell_type": "code",
      "execution_count": 79,
      "id": "bdac389b-e5f8-4563-a187-36b016c0641c",
      "metadata": {
        "id": "bdac389b-e5f8-4563-a187-36b016c0641c"
      },
      "outputs": [],
      "source": [
        "\"\"\" Reading the data from my local machine \"\"\"\n",
        "data = pd.read_csv(\"nba_player_dataset_project2.csv\")"
      ]
    },
    {
      "cell_type": "code",
      "execution_count": 80,
      "id": "3ace8735",
      "metadata": {},
      "outputs": [
        {
          "data": {
            "text/html": [
              "<div>\n",
              "<style scoped>\n",
              "    .dataframe tbody tr th:only-of-type {\n",
              "        vertical-align: middle;\n",
              "    }\n",
              "\n",
              "    .dataframe tbody tr th {\n",
              "        vertical-align: top;\n",
              "    }\n",
              "\n",
              "    .dataframe thead th {\n",
              "        text-align: right;\n",
              "    }\n",
              "</style>\n",
              "<table border=\"1\" class=\"dataframe\">\n",
              "  <thead>\n",
              "    <tr style=\"text-align: right;\">\n",
              "      <th></th>\n",
              "      <th>PERSON_ID</th>\n",
              "      <th>PLAYER_NAME</th>\n",
              "      <th>TEAM_NAME</th>\n",
              "      <th>POSITION</th>\n",
              "      <th>HEIGHT</th>\n",
              "      <th>WEIGHT</th>\n",
              "      <th>COUNTRY</th>\n",
              "      <th>BIRTHDATE</th>\n",
              "      <th>SEASON_EXP</th>\n",
              "      <th>DRAFT_NUMBER</th>\n",
              "      <th>GP</th>\n",
              "      <th>MIN</th>\n",
              "      <th>PTS</th>\n",
              "      <th>REB</th>\n",
              "      <th>AST</th>\n",
              "      <th>STL</th>\n",
              "      <th>BLK</th>\n",
              "      <th>SALARY</th>\n",
              "      <th>AGE</th>\n",
              "    </tr>\n",
              "  </thead>\n",
              "  <tbody>\n",
              "    <tr>\n",
              "      <th>0</th>\n",
              "      <td>1630173</td>\n",
              "      <td>Precious Achiuwa</td>\n",
              "      <td>Raptors</td>\n",
              "      <td>Forward</td>\n",
              "      <td>203</td>\n",
              "      <td>102</td>\n",
              "      <td>Nigeria</td>\n",
              "      <td>1999-09-19</td>\n",
              "      <td>2</td>\n",
              "      <td>20</td>\n",
              "      <td>134</td>\n",
              "      <td>18.4</td>\n",
              "      <td>7.2</td>\n",
              "      <td>5.1</td>\n",
              "      <td>0.8</td>\n",
              "      <td>0.4</td>\n",
              "      <td>0.5</td>\n",
              "      <td>2711280</td>\n",
              "      <td>23</td>\n",
              "    </tr>\n",
              "    <tr>\n",
              "      <th>1</th>\n",
              "      <td>203500</td>\n",
              "      <td>Steven Adams</td>\n",
              "      <td>Grizzlies</td>\n",
              "      <td>Center</td>\n",
              "      <td>211</td>\n",
              "      <td>120</td>\n",
              "      <td>New Zealand</td>\n",
              "      <td>1993-07-20</td>\n",
              "      <td>9</td>\n",
              "      <td>12</td>\n",
              "      <td>664</td>\n",
              "      <td>26.8</td>\n",
              "      <td>9.3</td>\n",
              "      <td>8.0</td>\n",
              "      <td>1.5</td>\n",
              "      <td>0.9</td>\n",
              "      <td>0.9</td>\n",
              "      <td>17073171</td>\n",
              "      <td>29</td>\n",
              "    </tr>\n",
              "    <tr>\n",
              "      <th>2</th>\n",
              "      <td>1628389</td>\n",
              "      <td>Bam Adebayo</td>\n",
              "      <td>Heat</td>\n",
              "      <td>Center</td>\n",
              "      <td>206</td>\n",
              "      <td>116</td>\n",
              "      <td>USA</td>\n",
              "      <td>1997-07-18</td>\n",
              "      <td>5</td>\n",
              "      <td>14</td>\n",
              "      <td>343</td>\n",
              "      <td>28.2</td>\n",
              "      <td>13.5</td>\n",
              "      <td>8.3</td>\n",
              "      <td>3.5</td>\n",
              "      <td>1.0</td>\n",
              "      <td>0.9</td>\n",
              "      <td>28103550</td>\n",
              "      <td>25</td>\n",
              "    </tr>\n",
              "    <tr>\n",
              "      <th>3</th>\n",
              "      <td>1630583</td>\n",
              "      <td>Santi Aldama</td>\n",
              "      <td>Grizzlies</td>\n",
              "      <td>Forward</td>\n",
              "      <td>211</td>\n",
              "      <td>98</td>\n",
              "      <td>Spain</td>\n",
              "      <td>2001-01-10</td>\n",
              "      <td>1</td>\n",
              "      <td>30</td>\n",
              "      <td>32</td>\n",
              "      <td>11.2</td>\n",
              "      <td>4.1</td>\n",
              "      <td>2.7</td>\n",
              "      <td>0.7</td>\n",
              "      <td>0.2</td>\n",
              "      <td>0.3</td>\n",
              "      <td>1994520</td>\n",
              "      <td>21</td>\n",
              "    </tr>\n",
              "    <tr>\n",
              "      <th>4</th>\n",
              "      <td>200746</td>\n",
              "      <td>LaMarcus Aldridge</td>\n",
              "      <td>Nets</td>\n",
              "      <td>Center</td>\n",
              "      <td>211</td>\n",
              "      <td>113</td>\n",
              "      <td>USA</td>\n",
              "      <td>1985-07-19</td>\n",
              "      <td>16</td>\n",
              "      <td>2</td>\n",
              "      <td>1076</td>\n",
              "      <td>33.7</td>\n",
              "      <td>19.1</td>\n",
              "      <td>8.1</td>\n",
              "      <td>1.9</td>\n",
              "      <td>0.7</td>\n",
              "      <td>1.1</td>\n",
              "      <td>2641691</td>\n",
              "      <td>37</td>\n",
              "    </tr>\n",
              "    <tr>\n",
              "      <th>...</th>\n",
              "      <td>...</td>\n",
              "      <td>...</td>\n",
              "      <td>...</td>\n",
              "      <td>...</td>\n",
              "      <td>...</td>\n",
              "      <td>...</td>\n",
              "      <td>...</td>\n",
              "      <td>...</td>\n",
              "      <td>...</td>\n",
              "      <td>...</td>\n",
              "      <td>...</td>\n",
              "      <td>...</td>\n",
              "      <td>...</td>\n",
              "      <td>...</td>\n",
              "      <td>...</td>\n",
              "      <td>...</td>\n",
              "      <td>...</td>\n",
              "      <td>...</td>\n",
              "      <td>...</td>\n",
              "    </tr>\n",
              "    <tr>\n",
              "      <th>424</th>\n",
              "      <td>1626153</td>\n",
              "      <td>Delon Wright</td>\n",
              "      <td>Wizards</td>\n",
              "      <td>Guard</td>\n",
              "      <td>196</td>\n",
              "      <td>84</td>\n",
              "      <td>USA</td>\n",
              "      <td>1992-04-26</td>\n",
              "      <td>7</td>\n",
              "      <td>20</td>\n",
              "      <td>411</td>\n",
              "      <td>20.9</td>\n",
              "      <td>7.2</td>\n",
              "      <td>3.2</td>\n",
              "      <td>3.0</td>\n",
              "      <td>1.2</td>\n",
              "      <td>0.4</td>\n",
              "      <td>8526316</td>\n",
              "      <td>30</td>\n",
              "    </tr>\n",
              "    <tr>\n",
              "      <th>425</th>\n",
              "      <td>201152</td>\n",
              "      <td>Thaddeus Young</td>\n",
              "      <td>Raptors</td>\n",
              "      <td>Forward</td>\n",
              "      <td>203</td>\n",
              "      <td>107</td>\n",
              "      <td>USA</td>\n",
              "      <td>1988-06-21</td>\n",
              "      <td>15</td>\n",
              "      <td>12</td>\n",
              "      <td>1085</td>\n",
              "      <td>29.3</td>\n",
              "      <td>12.8</td>\n",
              "      <td>5.8</td>\n",
              "      <td>1.8</td>\n",
              "      <td>1.4</td>\n",
              "      <td>0.4</td>\n",
              "      <td>14190000</td>\n",
              "      <td>34</td>\n",
              "    </tr>\n",
              "    <tr>\n",
              "      <th>426</th>\n",
              "      <td>1629027</td>\n",
              "      <td>Trae Young</td>\n",
              "      <td>Hawks</td>\n",
              "      <td>Guard</td>\n",
              "      <td>185</td>\n",
              "      <td>74</td>\n",
              "      <td>USA</td>\n",
              "      <td>1998-09-19</td>\n",
              "      <td>4</td>\n",
              "      <td>5</td>\n",
              "      <td>280</td>\n",
              "      <td>33.6</td>\n",
              "      <td>25.3</td>\n",
              "      <td>3.9</td>\n",
              "      <td>9.1</td>\n",
              "      <td>0.9</td>\n",
              "      <td>0.2</td>\n",
              "      <td>8326471</td>\n",
              "      <td>24</td>\n",
              "    </tr>\n",
              "    <tr>\n",
              "      <th>427</th>\n",
              "      <td>1630209</td>\n",
              "      <td>Omer Yurtseven</td>\n",
              "      <td>Heat</td>\n",
              "      <td>Center</td>\n",
              "      <td>211</td>\n",
              "      <td>125</td>\n",
              "      <td>Turkey</td>\n",
              "      <td>1998-06-19</td>\n",
              "      <td>1</td>\n",
              "      <td>Undrafted</td>\n",
              "      <td>56</td>\n",
              "      <td>12.6</td>\n",
              "      <td>5.3</td>\n",
              "      <td>5.3</td>\n",
              "      <td>0.9</td>\n",
              "      <td>0.3</td>\n",
              "      <td>0.4</td>\n",
              "      <td>1489065</td>\n",
              "      <td>24</td>\n",
              "    </tr>\n",
              "    <tr>\n",
              "      <th>428</th>\n",
              "      <td>1627826</td>\n",
              "      <td>Ivica Zubac</td>\n",
              "      <td>Clippers</td>\n",
              "      <td>Center</td>\n",
              "      <td>213</td>\n",
              "      <td>109</td>\n",
              "      <td>Croatia</td>\n",
              "      <td>1997-03-18</td>\n",
              "      <td>6</td>\n",
              "      <td>32</td>\n",
              "      <td>360</td>\n",
              "      <td>19.0</td>\n",
              "      <td>8.3</td>\n",
              "      <td>6.5</td>\n",
              "      <td>1.1</td>\n",
              "      <td>0.3</td>\n",
              "      <td>0.8</td>\n",
              "      <td>7518518</td>\n",
              "      <td>25</td>\n",
              "    </tr>\n",
              "  </tbody>\n",
              "</table>\n",
              "<p>429 rows × 19 columns</p>\n",
              "</div>"
            ],
            "text/plain": [
              "     PERSON_ID        PLAYER_NAME  TEAM_NAME POSITION  HEIGHT  WEIGHT  \\\n",
              "0      1630173   Precious Achiuwa    Raptors  Forward     203     102   \n",
              "1       203500       Steven Adams  Grizzlies   Center     211     120   \n",
              "2      1628389        Bam Adebayo       Heat   Center     206     116   \n",
              "3      1630583       Santi Aldama  Grizzlies  Forward     211      98   \n",
              "4       200746  LaMarcus Aldridge       Nets   Center     211     113   \n",
              "..         ...                ...        ...      ...     ...     ...   \n",
              "424    1626153       Delon Wright    Wizards    Guard     196      84   \n",
              "425     201152     Thaddeus Young    Raptors  Forward     203     107   \n",
              "426    1629027         Trae Young      Hawks    Guard     185      74   \n",
              "427    1630209     Omer Yurtseven       Heat   Center     211     125   \n",
              "428    1627826        Ivica Zubac   Clippers   Center     213     109   \n",
              "\n",
              "         COUNTRY   BIRTHDATE  SEASON_EXP DRAFT_NUMBER    GP   MIN   PTS  REB  \\\n",
              "0        Nigeria  1999-09-19           2           20   134  18.4   7.2  5.1   \n",
              "1    New Zealand  1993-07-20           9           12   664  26.8   9.3  8.0   \n",
              "2            USA  1997-07-18           5           14   343  28.2  13.5  8.3   \n",
              "3          Spain  2001-01-10           1           30    32  11.2   4.1  2.7   \n",
              "4            USA  1985-07-19          16            2  1076  33.7  19.1  8.1   \n",
              "..           ...         ...         ...          ...   ...   ...   ...  ...   \n",
              "424          USA  1992-04-26           7           20   411  20.9   7.2  3.2   \n",
              "425          USA  1988-06-21          15           12  1085  29.3  12.8  5.8   \n",
              "426          USA  1998-09-19           4            5   280  33.6  25.3  3.9   \n",
              "427       Turkey  1998-06-19           1    Undrafted    56  12.6   5.3  5.3   \n",
              "428      Croatia  1997-03-18           6           32   360  19.0   8.3  6.5   \n",
              "\n",
              "     AST  STL  BLK    SALARY  AGE  \n",
              "0    0.8  0.4  0.5   2711280   23  \n",
              "1    1.5  0.9  0.9  17073171   29  \n",
              "2    3.5  1.0  0.9  28103550   25  \n",
              "3    0.7  0.2  0.3   1994520   21  \n",
              "4    1.9  0.7  1.1   2641691   37  \n",
              "..   ...  ...  ...       ...  ...  \n",
              "424  3.0  1.2  0.4   8526316   30  \n",
              "425  1.8  1.4  0.4  14190000   34  \n",
              "426  9.1  0.9  0.2   8326471   24  \n",
              "427  0.9  0.3  0.4   1489065   24  \n",
              "428  1.1  0.3  0.8   7518518   25  \n",
              "\n",
              "[429 rows x 19 columns]"
            ]
          },
          "execution_count": 80,
          "metadata": {},
          "output_type": "execute_result"
        }
      ],
      "source": [
        "\"\"\"Replace NaN values with \"Undrafted\", and change the 'AGE' colum to a more usefull value \"\"\"\n",
        "data.DRAFT_NUMBER = data.DRAFT_NUMBER.fillna(value= 'Undrafted')\n",
        "data.AGE = data.AGE.str[0:2].astype(int)\n",
        "data"
      ]
    },
    {
      "cell_type": "markdown",
      "id": "c3cc6b89-e698-4943-8562-160190b9cbd0",
      "metadata": {
        "id": "c3cc6b89-e698-4943-8562-160190b9cbd0"
      },
      "source": [
        "Let's have another look at our previously generated dataset. "
      ]
    },
    {
      "cell_type": "markdown",
      "id": "e098b76d-c520-474b-9998-a263354fe27b",
      "metadata": {
        "id": "e098b76d-c520-474b-9998-a263354fe27b"
      },
      "source": [
        "1.1. Plot all players statistics (\"PTS\", \"REB\", \"AST\",\"STL\",\"BLK\") against salary"
      ]
    },
    {
      "cell_type": "code",
      "execution_count": 81,
      "id": "61db370d",
      "metadata": {},
      "outputs": [
        {
          "name": "stderr",
          "output_type": "stream",
          "text": [
            "C:\\Users\\marco\\AppData\\Local\\Temp\\ipykernel_4512\\3358997100.py:3: FutureWarning: The default value of numeric_only in DataFrame.corr is deprecated. In a future version, it will default to False. Select only valid columns or specify the value of numeric_only to silence this warning.\n",
            "  heatmap = sns.heatmap(data.corr(), vmin=-1, vmax=1, annot=True, cmap='BrBG')\n"
          ]
        },
        {
          "data": {
            "text/plain": [
              "Text(0.5, 1.0, 'Correlation Heatmap')"
            ]
          },
          "execution_count": 81,
          "metadata": {},
          "output_type": "execute_result"
        },
        {
          "data": {
            "image/png": "[encoded data removed]",
            "text/plain": [
              "<Figure size 2200x600 with 2 Axes>"
            ]
          },
          "metadata": {},
          "output_type": "display_data"
        }
      ],
      "source": [
        "\"\"\" Plotting heatmap to see feaure correlation \"\"\"\n",
        "plt.figure(figsize=(22, 6))\n",
        "heatmap = sns.heatmap(data.corr(), vmin=-1, vmax=1, annot=True, cmap='BrBG')\n",
        "heatmap.set_title('Correlation Heatmap', fontdict={'fontsize':18}, pad=12)"
      ]
    },
    {
      "cell_type": "code",
      "execution_count": 82,
      "id": "50d589f1-25c1-48f8-88f3-e2c7f0e72625",
      "metadata": {
        "id": "50d589f1-25c1-48f8-88f3-e2c7f0e72625"
      },
      "outputs": [
        {
          "data": {
            "text/plain": [
              "Text(0.5, 1.0, 'Blockss vs Salary')"
            ]
          },
          "execution_count": 82,
          "metadata": {},
          "output_type": "execute_result"
        },
        {
          "data": {
            "image/png": "[encoded data removed]",
            "text/plain": [
              "<Figure size 2400x600 with 5 Axes>"
            ]
          },
          "metadata": {},
          "output_type": "display_data"
        }
      ],
      "source": [
        "\"\"\" Plot all players statistics (\"PTS\", \"REB\", \"AST\",\"STL\",\"BLK\") against salary \"\"\"\n",
        "fig, axes = plt.subplots(1, 5, figsize=(24, 6))\n",
        "plot_1= sns.regplot(ax=axes[0], data=data, x='PTS', y='SALARY', color=\"seagreen\", ci=None)\n",
        "plot_2 =sns.regplot(ax=axes[1], data=data, x='REB', y='SALARY', color=\"tomato\", ci=None)\n",
        "plot_3 =sns.regplot(ax=axes[2], data=data, x='AST', y='SALARY', color=\"darkblue\", ci=None)\n",
        "plot_4 =sns.regplot(ax=axes[3], data=data, x='STL', y='SALARY', color=\"grey\", ci=None)\n",
        "plot_5 =sns.regplot(ax=axes[4], data=data, x='BLK', y='SALARY', color=\"lime\",ci=None)\n",
        "plot_1.set(xlabel='Scoring', ylabel='Salary (in million of dollars)')\n",
        "plot_2.set(xlabel='REB (REBOUNDING)', ylabel='Salary (in million of dollars)')\n",
        "plot_3.set(xlabel='AST (ASSISTS)', ylabel='Salary (in million of dollars)')\n",
        "plot_4.set(xlabel='STL (Steals)', ylabel='Salary (in million of dollars)')\n",
        "plot_5.set(xlabel='BLK (Blocks)', ylabel='Salary (in million of dollars)')\n",
        "axes[0].set_title('Scoring(points per game) vs Salary')\n",
        "axes[1].set_title('Rebounding vs Salary')\n",
        "axes[2].set_title('Assists vs Salary')\n",
        "axes[3].set_title('Steals vs Salary')\n",
        "axes[4].set_title('Blockss vs Salary')"
      ]
    },
    {
      "cell_type": "markdown",
      "id": "bbf0fe81-4aed-4dd9-8500-0919b4ec1e07",
      "metadata": {
        "id": "bbf0fe81-4aed-4dd9-8500-0919b4ec1e07"
      },
      "source": [
        "1.2. What can we say about these distributions?"
      ]
    },
    {
      "cell_type": "code",
      "execution_count": 83,
      "id": "12b0fd30-0860-4ac3-8d52-5b072f1fd822",
      "metadata": {
        "id": "12b0fd30-0860-4ac3-8d52-5b072f1fd822"
      },
      "outputs": [
        {
          "data": {
            "text/plain": [
              "\" In the 'Correlation Heatmap' plot the values closer to zero means there is no linear correlation between the two variables. The closer to 1 the correlation is the more positively correlated they are, a correlation closer to -1\\nmeans one variable will decrease as the other increases and correlation coser to positive 1 means that as one variable increase so does the other.\\nWe can also see in the regression plots that of all the stats 'PTS vs Salary' have the strongest colleration and a positive trend, meaning that as the player scores more points there is a higher probability of having a higher salary, \\nin second comes 'AST vs Salary' with a positve trend as well but less steep, followed by 'STL vs Salary' with a positive trend and a similar correlation as 'AST vs Salary',\\nand second-last comes 'REB vs Salay' with a positve trend but a lesser impact on salary', and in last place in terms of correlation to salary comes 'BLK vs Salary', with the lesat impact on salary.\""
            ]
          },
          "execution_count": 83,
          "metadata": {},
          "output_type": "execute_result"
        }
      ],
      "source": [
        "\"\"\" In the 'Correlation Heatmap' plot the values closer to zero means there is no linear correlation between the two variables. The closer to 1 the correlation is the more positively correlated they are, a correlation closer to -1\n",
        "means one variable will decrease as the other increases and correlation coser to positive 1 means that as one variable increase so does the other.\n",
        "We can also see in the regression plots that of all the stats 'PTS vs Salary' have the strongest colleration and a positive trend, meaning that as the player scores more points there is a higher probability of having a higher salary, \n",
        "in second comes 'AST vs Salary' with a positve trend as well but less steep, followed by 'STL vs Salary' with a positive trend and a similar correlation as 'AST vs Salary',\n",
        "and second-last comes 'REB vs Salay' with a positve trend but a lesser impact on salary', and in last place in terms of correlation to salary comes 'BLK vs Salary', with the lesat impact on salary.\"\"\""
      ]
    },
    {
      "cell_type": "markdown",
      "id": "17735366-22bf-4cd8-a392-9dfb01652da0",
      "metadata": {
        "id": "17735366-22bf-4cd8-a392-9dfb01652da0"
      },
      "source": [
        "### Splitting the Dataset"
      ]
    },
    {
      "cell_type": "markdown",
      "id": "02450fb0-829c-420b-b65c-ea553a9a81a2",
      "metadata": {
        "id": "02450fb0-829c-420b-b65c-ea553a9a81a2"
      },
      "source": [
        "1.3. Split the dataset into train and testing sets. Use the Sklearn function for train/test splitting. Make sure to set the random state for reproducibility.\n",
        "\n",
        "**Note:** Before using scikit-learn `train_test_split()`, separate your dataframe into features and labels. Assign your features to `X` variable and labels to `y`."
      ]
    },
    {
      "cell_type": "code",
      "execution_count": 84,
      "id": "d532e0fb-e478-48a0-971b-1ad1d428fe95",
      "metadata": {
        "id": "d532e0fb-e478-48a0-971b-1ad1d428fe95"
      },
      "outputs": [],
      "source": [
        "# TODO: Put here your features\n",
        "X = data[['PERSON_ID', 'PLAYER_NAME', 'TEAM_NAME', 'POSITION', 'HEIGHT', 'WEIGHT','COUNTRY', 'BIRTHDATE', 'SEASON_EXP', 'DRAFT_NUMBER', 'GP', 'MIN','PTS', 'REB', 'AST', 'STL', 'BLK', 'AGE']]\n",
        "# TODO: Put here your labels\n",
        "y = data['SALARY']\n",
        "\n",
        "# TODO: Now use train_test_split()\n",
        "X_train, X_test, y_train, y_test = train_test_split(X,y,test_size=0.2,random_state=2611,shuffle=True)"
      ]
    },
    {
      "cell_type": "markdown",
      "id": "5TpInGhkR6fo",
      "metadata": {
        "id": "5TpInGhkR6fo"
      },
      "source": [
        "*Don't change anything in this cell, just make it run correctly*"
      ]
    },
    {
      "cell_type": "code",
      "execution_count": 85,
      "id": "YDyKX-LUR7Xo",
      "metadata": {
        "id": "YDyKX-LUR7Xo"
      },
      "outputs": [
        {
          "name": "stdout",
          "output_type": "stream",
          "text": [
            "Success!\n",
            "Success!\n"
          ]
        }
      ],
      "source": [
        "if X.SEASON_EXP[322] == 7 and y[255] == 1517981:\n",
        "  print('Success!')\n",
        "else:\n",
        "  raise ValueError('The draft categories are incorrect, please review your function')\n",
        "\n",
        "if X.shape == (429, 18) and y.shape == (429,):\n",
        "  print('Success!')\n",
        "else:\n",
        "  raise ValueError('Your features/labels shape is incorrect, please review your code')\n"
      ]
    },
    {
      "cell_type": "markdown",
      "id": "6aec0deb-7efe-438c-8a4a-39f940aeb474",
      "metadata": {
        "id": "6aec0deb-7efe-438c-8a4a-39f940aeb474"
      },
      "source": [
        "### Baseline Model and Evaluation Metric"
      ]
    },
    {
      "cell_type": "markdown",
      "id": "40ca78ad-8dc1-4b13-99bd-27dcd138a809",
      "metadata": {
        "id": "40ca78ad-8dc1-4b13-99bd-27dcd138a809"
      },
      "source": [
        "In every project, we need a baseline model that implements a very simple algorithm or heuristic so we can compare our results with it. \n",
        "In this case, we could create a function that always returns the average player salary, evaluate that, and then compare the result with our modeling to see if we are improving. "
      ]
    },
    {
      "cell_type": "markdown",
      "id": "71a7eb29-2bdf-4faf-93e9-3206dbc9cca2",
      "metadata": {
        "id": "71a7eb29-2bdf-4faf-93e9-3206dbc9cca2"
      },
      "source": [
        "We need an evaluation metric to see how well our models fit the data. For this project we will use [Mean Absolute Error](https://scikit-learn.org/stable/modules/generated/sklearn.metrics.mean_absolute_error.html#sklearn.metrics.mean_absolute_error) as our regression evaluation metric, because it is a really simple metric to interpret. A lower value means the model performs better. \n",
        "\n",
        "For this particular problem, we will always round the value, as we don't need decimals for this task."
      ]
    },
    {
      "cell_type": "markdown",
      "id": "cefd619d-e6b0-4e70-acf8-f0f4a90fe896",
      "metadata": {
        "id": "cefd619d-e6b0-4e70-acf8-f0f4a90fe896"
      },
      "source": [
        "1.4. Create a Baseline model class that implements  fit() and predict() methods. As this model will not consider any other variable, the fit method should only receive a list of all players salaries. The predict method should receive and iterable and return a numpy array with the same length but every element should have the same value (the average salary)"
      ]
    },
    {
      "cell_type": "code",
      "execution_count": 86,
      "id": "8ee01164-1ef2-44dc-8baa-74b630444577",
      "metadata": {
        "id": "8ee01164-1ef2-44dc-8baa-74b630444577"
      },
      "outputs": [],
      "source": [
        "class BaselineModel():\n",
        "  \"\"\"\n",
        "  A baseline model that always returns the same value, the mean of the \n",
        "  players salary in the train data\n",
        "\n",
        "  f(x) = mean(train_labels)\n",
        "   \n",
        "  \"\"\"\n",
        "  def __init__(self):\n",
        "    self.w0 = 0\n",
        "    self.w1 = 0\n",
        "\n",
        "  \n",
        "  def fit(self, df_train):\n",
        "    \"\"\"\n",
        "    Fit the training data. \n",
        "    \n",
        "    Parameters\n",
        "    ----------\n",
        "    y_train: Union[pd.Series, np.ndarray]\n",
        "        a pandas series or numpy array containing salary information\n",
        "    \"\"\"\n",
        "    self.w0 = np.mean(df_train)\n",
        "    return self.w0\n",
        "      \n",
        "  \n",
        "  def predict(self, df_test):\n",
        "    \"\"\"\n",
        "    Predict salaries \n",
        "    \n",
        "    Parameters\n",
        "    ----------\n",
        "    X: Union[pd.DataFrame, pd.Series, np.ndarray]\n",
        "        a pandas series, dataframe or numpy array with the \n",
        "        \n",
        "    Returns\n",
        "    -------\n",
        "    np.ndarray\n",
        "        a numpy array of the same length as X, with all elements equal to \n",
        "        the mean salary calculated in fit()\n",
        "    \"\"\"\n",
        "    predict_array_shape = np.arange(len(df_test)).T\n",
        "    self.w1 = np.full_like(predict_array_shape, self.w0)\n",
        "    return self.w1\n",
        "      "
      ]
    },
    {
      "cell_type": "markdown",
      "id": "6a1a8134-48a4-4c66-84d2-39030242ef5f",
      "metadata": {
        "id": "6a1a8134-48a4-4c66-84d2-39030242ef5f"
      },
      "source": [
        "1.5. Evaluate the performance of our BaselineModel on the test set using mean_absolute_error from Sklearn (round the result)"
      ]
    },
    {
      "cell_type": "code",
      "execution_count": 87,
      "id": "fb72f39b-e7fc-4cd8-bd23-ee4407a80eed",
      "metadata": {
        "id": "fb72f39b-e7fc-4cd8-bd23-ee4407a80eed"
      },
      "outputs": [
        {
          "data": {
            "text/plain": [
              "7759882.011627907"
            ]
          },
          "execution_count": 87,
          "metadata": {},
          "output_type": "execute_result"
        }
      ],
      "source": [
        "baseline = BaselineModel()\n",
        "y_baseline_predicted = baseline.fit(y_train) # recives the list of player salaries\n",
        "y_baseline_predicted = baseline.predict(X_test).round()\n",
        "MAE_baseline = mean_absolute_error(y_test, y_baseline_predicted )\n",
        "MAE_baseline"
      ]
    },
    {
      "cell_type": "markdown",
      "id": "fc4dff42-e36c-478d-bfd3-7541f3f36f16",
      "metadata": {
        "id": "fc4dff42-e36c-478d-bfd3-7541f3f36f16"
      },
      "source": [
        "### Regression with a single variable"
      ]
    },
    {
      "cell_type": "markdown",
      "id": "c9597b03-31fd-4a9c-8dad-9479666355cd",
      "metadata": {
        "id": "c9597b03-31fd-4a9c-8dad-9479666355cd"
      },
      "source": [
        "You're now going to start modeling data. We will start with a really simple approach, selecting just one variable, and doing a regression to see if we improve upon our baseline.\n"
      ]
    },
    {
      "cell_type": "markdown",
      "id": "af92eeac-cbfb-45cb-8626-246332c69624",
      "metadata": {
        "id": "af92eeac-cbfb-45cb-8626-246332c69624"
      },
      "source": [
        "1.6. Select the variable you think would provide the best fit. Perform feature scaling on this variable using a Sklearn scaler."
      ]
    },
    {
      "cell_type": "code",
      "execution_count": 88,
      "id": "173f1211-95e2-4bcb-ba7d-a40c516b4c24",
      "metadata": {
        "id": "173f1211-95e2-4bcb-ba7d-a40c516b4c24"
      },
      "outputs": [],
      "source": [
        "scaler_single_var = StandardScaler()\n",
        "scaler_single_var .fit(X_train['PTS'].values.reshape(-1, 1))\n",
        "X_train['PTS'] = scaler_single_var.transform(X_train['PTS'].values.reshape(-1, 1))\n",
        "X_test['PTS'] = scaler_single_var.transform(X_test['PTS'].values.reshape(-1, 1))"
      ]
    },
    {
      "cell_type": "markdown",
      "id": "1c490e55-2bff-4a06-a01e-c6859d7edb52",
      "metadata": {
        "id": "1c490e55-2bff-4a06-a01e-c6859d7edb52"
      },
      "source": [
        "1.7. Train a model with [SGDRegressor](https://scikit-learn.org/stable/modules/generated/sklearn.linear_model.SGDRegressor.html) from Sklearn using the default parameters. Evaluate the model's performance on the test set using the selected metric."
      ]
    },
    {
      "cell_type": "code",
      "execution_count": 89,
      "id": "15d198ad-a601-4722-937b-3be52090c8d1",
      "metadata": {
        "id": "15d198ad-a601-4722-937b-3be52090c8d1"
      },
      "outputs": [
        {
          "data": {
            "text/plain": [
              "5157214.2603347525"
            ]
          },
          "execution_count": 89,
          "metadata": {},
          "output_type": "execute_result"
        }
      ],
      "source": [
        "sgd_model_single_var = SGDRegressor(random_state=2611)\n",
        "sgd_model_single_var.fit(X_train[['PTS']], y_train) # Double brackets to pass it as a dataframe or use values.reshape(-1, 1)\n",
        "y_single_var_predicted = sgd_model_single_var.predict(X_test[['PTS']])\n",
        "MAE_single_var = mean_absolute_error(y_test, y_single_var_predicted)\n",
        "MAE_single_var"
      ]
    },
    {
      "cell_type": "markdown",
      "id": "e87147d9-5b57-4984-9f0d-e595cd6d15d3",
      "metadata": {
        "id": "e87147d9-5b57-4984-9f0d-e595cd6d15d3"
      },
      "source": [
        "1.8. Read the Sklearn documentation, and write a function that tries different configurations for the hyperparameters for training: epochs, learning rate and alpha. For each combination of parameters, evaluate the trained algorithm on the test set, then save the results of each hyperparameter combination, finally select the one that has the best MAE (meaning the lowest number) and print the combination and the MAE."
      ]
    },
    {
      "cell_type": "code",
      "execution_count": 90,
      "id": "9e1f26f4-1eb4-4ecc-bfc2-9d8583f00d0d",
      "metadata": {
        "id": "9e1f26f4-1eb4-4ecc-bfc2-9d8583f00d0d"
      },
      "outputs": [],
      "source": [
        "def search_best_hyperparameters_SGDRegressor_singlevar(max_iter, eta0, alpha, dfx_train, dfx_test, dfy_train, dfy_test,column_name):\n",
        "  \n",
        "  \"\"\"\n",
        "  A funtion that looks for the best hyperparameters of an SGDRegressor out of a given list\n",
        "  of values\n",
        "  \"\"\"\n",
        "  \"\"\"\n",
        "  Parameters\n",
        "    ----------\n",
        "    max iter: The maximum number of passes over the training data (aka epochs). It only impacts the behavior in the fit method,\n",
        "               and not the partial_fit method, default=1000.\n",
        "    eta0: The initial learning rate for the 'constant', 'invscaling' or 'adaptive' schedules. The default value is 0.01.\n",
        "    alpha: Constant that multiplies the regularization term. The higher the value, the stronger the regularization.\n",
        "           Also used to compute the learning rate when set to learning_rate is set to 'optimal' default=0.0001.\n",
        "    dfx_train: X_train dataframe of the splitted X dataframe (features)\n",
        "    dfx_test: X_test dataframe of the splitted X dataframe (features)\n",
        "    dfy_train: y_train dataframe of the splitted y dataframe (labels)\n",
        "    dfy_train: y_test dataframe of the splitted y dataframe (labels)\n",
        "    columns_name: Name of the silgle column to fit and transform in string format eg. 'PTS'\n",
        "    \"\"\"\n",
        "  result_singlevar = {\n",
        "    \"hyperparameters\": {\"max_iter\": None, \"eta0\": None,  \"alpha\": None}, \n",
        "    \"mae\": 0\n",
        "  }\n",
        "  # Complete your code here\n",
        "  MAE_list = []\n",
        "  for iter in max_iter:\n",
        "    for initial_lr in eta0:\n",
        "      for alph in alpha:\n",
        "        SGDRegressor_single_var = SGDRegressor(max_iter=iter, eta0=initial_lr,  alpha=alph, random_state=2611)\n",
        "        SGDRegressor_single_var.fit(dfx_train[[column_name]], dfy_train) # Double brackets to pass it as a dataframe or use values.reshape(-1, 1)\n",
        "        y_single_var_predicted = SGDRegressor_single_var.predict(dfx_test[[column_name]])\n",
        "        MAE_hyperparameter = round(mean_absolute_error(dfy_test, y_single_var_predicted), 0)\n",
        "        MAE_list.append(MAE_hyperparameter)\n",
        "        if MAE_hyperparameter == min(MAE_list):\n",
        "          result_singlevar['hyperparameters']['max_iter'] = iter\n",
        "          result_singlevar['hyperparameters']['eta0'] = initial_lr\n",
        "          result_singlevar['hyperparameters']['alpha'] = alph\n",
        "          result_singlevar['mae'] = MAE_hyperparameter\n",
        "  \"\"\"\"\n",
        "  Returns\n",
        "    -------\n",
        "    dictionary\n",
        "        a dictionary with the  best combination of hyperparameters out of the given lists of values for each parameter.\n",
        "    \"\"\"\n",
        "  return result_singlevar"
      ]
    },
    {
      "cell_type": "code",
      "execution_count": 91,
      "id": "95ffbb3b-d161-4a29-9c48-eaff18b82412",
      "metadata": {
        "id": "95ffbb3b-d161-4a29-9c48-eaff18b82412"
      },
      "outputs": [
        {
          "name": "stderr",
          "output_type": "stream",
          "text": [
            "c:\\Users\\marco\\AppData\\Local\\pypoetry\\Cache\\virtualenvs\\anyoneai-sprint2-Hzs07fFS-py3.8\\lib\\site-packages\\sklearn\\linear_model\\_stochastic_gradient.py:1527: ConvergenceWarning: Maximum number of iteration reached before convergence. Consider increasing max_iter to improve the fit.\n",
            "  warnings.warn(\n",
            "c:\\Users\\marco\\AppData\\Local\\pypoetry\\Cache\\virtualenvs\\anyoneai-sprint2-Hzs07fFS-py3.8\\lib\\site-packages\\sklearn\\linear_model\\_stochastic_gradient.py:1527: ConvergenceWarning: Maximum number of iteration reached before convergence. Consider increasing max_iter to improve the fit.\n",
            "  warnings.warn(\n"
          ]
        },
        {
          "name": "stdout",
          "output_type": "stream",
          "text": [
            "{'hyperparameters': {'max_iter': 1000000, 'eta0': 0.1, 'alpha': 0.0001}, 'mae': 5062847.0}\n"
          ]
        }
      ],
      "source": [
        "# list of hyperparameters values\n",
        "max_iter = [1000, 10000, 100000, 1000000]\n",
        "eta0 = [0.0001, 0.001, 0.01, 0.1]\n",
        "alpha = [0.00001, 0.0001]\n",
        "result_singlevar = search_best_hyperparameters_SGDRegressor_singlevar(max_iter, eta0, alpha, X_train, X_test, y_train, y_test, \"PTS\")\n",
        "print(result_singlevar)"
      ]
    },
    {
      "cell_type": "markdown",
      "id": "776e0c7a-d592-4479-aec6-870edff61def",
      "metadata": {
        "id": "776e0c7a-d592-4479-aec6-870edff61def"
      },
      "source": [
        "1.9. Compare the results of the baseline, the SGDRegressor with default parameters and the one with the best combination of hyperparameters you could find. (replace variables with the ones you used)"
      ]
    },
    {
      "cell_type": "code",
      "execution_count": 92,
      "id": "2e520ef6-52ed-48dc-8450-03031f3a03a6",
      "metadata": {
        "id": "2e520ef6-52ed-48dc-8450-03031f3a03a6"
      },
      "outputs": [
        {
          "name": "stdout",
          "output_type": "stream",
          "text": [
            "Mean Absolute Error for each model:\n",
            "Baseline: 7759882.011627907\n",
            "Default SGDRegressor: 5157214.2603347525\n",
            "Best SGDRegressor single var: 5062847.0\n"
          ]
        }
      ],
      "source": [
        "print(\"Mean Absolute Error for each model:\")\n",
        "print(f\"Baseline: {MAE_baseline}\")\n",
        "print(f\"Default SGDRegressor: {MAE_single_var}\")\n",
        "print(f\"Best SGDRegressor single var: {result_singlevar['mae']}\")"
      ]
    },
    {
      "cell_type": "markdown",
      "id": "19e281ec-d578-496d-9f5d-897a2e1986a2",
      "metadata": {
        "id": "19e281ec-d578-496d-9f5d-897a2e1986a2"
      },
      "source": [
        "### Multivariable Linear Regression"
      ]
    },
    {
      "cell_type": "markdown",
      "id": "4ff24d36-439a-478f-b0de-0021223f6e99",
      "metadata": {
        "id": "4ff24d36-439a-478f-b0de-0021223f6e99"
      },
      "source": [
        "To improve our model, we will add more features to it. We will have to do some processing to our dataset to be able to use the data.\n",
        "We'll start with the following variables:"
      ]
    },
    {
      "cell_type": "markdown",
      "id": "247f4716-496a-4040-9519-77f7a6839691",
      "metadata": {
        "id": "247f4716-496a-4040-9519-77f7a6839691"
      },
      "source": [
        "- Points\n",
        "- Rebounds\n",
        "- Assists\n",
        "- Blocks\n",
        "- Experience\n",
        "- Position\n",
        "- Draft Number\n"
      ]
    },
    {
      "cell_type": "markdown",
      "id": "7958f7ec-45a0-4deb-bb79-3daa756dbcca",
      "metadata": {
        "id": "7958f7ec-45a0-4deb-bb79-3daa756dbcca"
      },
      "source": [
        "1.10. Create a copy of the dataset generated in the first project that only has the following columns (and player id as an index) and name it mv_regression_df:\n",
        "\n",
        "[\"PTS\", \"REB\", \"AST\", \"BLK\", \"SEASON_EXP\", \"POSITION\", \"DRAFT_NUMBER\", \"SALARY\"]"
      ]
    },
    {
      "cell_type": "code",
      "execution_count": 93,
      "id": "64b265b4-d4e5-40a6-a9c3-cce920ecaa1b",
      "metadata": {
        "id": "64b265b4-d4e5-40a6-a9c3-cce920ecaa1b"
      },
      "outputs": [],
      "source": [
        "# TODO: Complete here\n",
        "mv_regression_df = data[[\"PTS\", \"REB\", \"AST\", \"BLK\", \"SEASON_EXP\", \"POSITION\", \"DRAFT_NUMBER\", \"SALARY\"]].copy(deep=True)"
      ]
    },
    {
      "cell_type": "markdown",
      "id": "tMQzDak1Nk2i",
      "metadata": {
        "id": "tMQzDak1Nk2i"
      },
      "source": [
        "*Don't change anything in this cell, just make it run correctly*"
      ]
    },
    {
      "cell_type": "code",
      "execution_count": 94,
      "id": "l_gK5RQvJC0V",
      "metadata": {
        "id": "l_gK5RQvJC0V"
      },
      "outputs": [
        {
          "name": "stdout",
          "output_type": "stream",
          "text": [
            "Success!\n"
          ]
        }
      ],
      "source": [
        "if mv_regression_df.shape == (429, 8):\n",
        "  print('Success!')\n",
        "else:\n",
        "  raise ValueError('The shape is incorrect, please review your function')"
      ]
    },
    {
      "cell_type": "markdown",
      "id": "4865eb6e-d85d-4283-a67c-93df46a5b72e",
      "metadata": {
        "id": "4865eb6e-d85d-4283-a67c-93df46a5b72e"
      },
      "source": [
        "#### Feature Engineering"
      ]
    },
    {
      "cell_type": "markdown",
      "id": "ec9b71e8-57aa-405a-8b3b-b0585a45d64d",
      "metadata": {
        "id": "ec9b71e8-57aa-405a-8b3b-b0585a45d64d"
      },
      "source": [
        "1.11. Binning the DRAFT_NUMBER feature. Draft position directly impacts salaries during the first few years, but second round players and undrafted players don't have guaranteed contracts. So we're gonna divide the bins like this: \n",
        "\n",
        "       - 1 to 15: firstround_lottery\n",
        "       - 15 to 30: firstround_non_lottery\n",
        "       - 30 to 60: second_round\n",
        "       - Undrafted: undrafted\n",
        "       \n",
        "Create a new column named DRAFT using these 4 categories. Drop the draft number column."
      ]
    },
    {
      "cell_type": "code",
      "execution_count": 95,
      "id": "3ea6afa9-7df8-446c-b134-c832f3ca27b7",
      "metadata": {
        "id": "3ea6afa9-7df8-446c-b134-c832f3ca27b7"
      },
      "outputs": [
        {
          "data": {
            "text/html": [
              "<div>\n",
              "<style scoped>\n",
              "    .dataframe tbody tr th:only-of-type {\n",
              "        vertical-align: middle;\n",
              "    }\n",
              "\n",
              "    .dataframe tbody tr th {\n",
              "        vertical-align: top;\n",
              "    }\n",
              "\n",
              "    .dataframe thead th {\n",
              "        text-align: right;\n",
              "    }\n",
              "</style>\n",
              "<table border=\"1\" class=\"dataframe\">\n",
              "  <thead>\n",
              "    <tr style=\"text-align: right;\">\n",
              "      <th></th>\n",
              "      <th>PTS</th>\n",
              "      <th>REB</th>\n",
              "      <th>AST</th>\n",
              "      <th>BLK</th>\n",
              "      <th>SEASON_EXP</th>\n",
              "      <th>POSITION</th>\n",
              "      <th>SALARY</th>\n",
              "      <th>DRAFT</th>\n",
              "    </tr>\n",
              "  </thead>\n",
              "  <tbody>\n",
              "    <tr>\n",
              "      <th>0</th>\n",
              "      <td>7.2</td>\n",
              "      <td>5.1</td>\n",
              "      <td>0.8</td>\n",
              "      <td>0.5</td>\n",
              "      <td>2</td>\n",
              "      <td>Forward</td>\n",
              "      <td>2711280</td>\n",
              "      <td>firstround_non_lottery</td>\n",
              "    </tr>\n",
              "    <tr>\n",
              "      <th>1</th>\n",
              "      <td>9.3</td>\n",
              "      <td>8.0</td>\n",
              "      <td>1.5</td>\n",
              "      <td>0.9</td>\n",
              "      <td>9</td>\n",
              "      <td>Center</td>\n",
              "      <td>17073171</td>\n",
              "      <td>firstround_lottery</td>\n",
              "    </tr>\n",
              "    <tr>\n",
              "      <th>2</th>\n",
              "      <td>13.5</td>\n",
              "      <td>8.3</td>\n",
              "      <td>3.5</td>\n",
              "      <td>0.9</td>\n",
              "      <td>5</td>\n",
              "      <td>Center</td>\n",
              "      <td>28103550</td>\n",
              "      <td>firstround_lottery</td>\n",
              "    </tr>\n",
              "    <tr>\n",
              "      <th>3</th>\n",
              "      <td>4.1</td>\n",
              "      <td>2.7</td>\n",
              "      <td>0.7</td>\n",
              "      <td>0.3</td>\n",
              "      <td>1</td>\n",
              "      <td>Forward</td>\n",
              "      <td>1994520</td>\n",
              "      <td>firstround_non_lottery</td>\n",
              "    </tr>\n",
              "    <tr>\n",
              "      <th>4</th>\n",
              "      <td>19.1</td>\n",
              "      <td>8.1</td>\n",
              "      <td>1.9</td>\n",
              "      <td>1.1</td>\n",
              "      <td>16</td>\n",
              "      <td>Center</td>\n",
              "      <td>2641691</td>\n",
              "      <td>firstround_lottery</td>\n",
              "    </tr>\n",
              "    <tr>\n",
              "      <th>...</th>\n",
              "      <td>...</td>\n",
              "      <td>...</td>\n",
              "      <td>...</td>\n",
              "      <td>...</td>\n",
              "      <td>...</td>\n",
              "      <td>...</td>\n",
              "      <td>...</td>\n",
              "      <td>...</td>\n",
              "    </tr>\n",
              "    <tr>\n",
              "      <th>424</th>\n",
              "      <td>7.2</td>\n",
              "      <td>3.2</td>\n",
              "      <td>3.0</td>\n",
              "      <td>0.4</td>\n",
              "      <td>7</td>\n",
              "      <td>Guard</td>\n",
              "      <td>8526316</td>\n",
              "      <td>firstround_non_lottery</td>\n",
              "    </tr>\n",
              "    <tr>\n",
              "      <th>425</th>\n",
              "      <td>12.8</td>\n",
              "      <td>5.8</td>\n",
              "      <td>1.8</td>\n",
              "      <td>0.4</td>\n",
              "      <td>15</td>\n",
              "      <td>Forward</td>\n",
              "      <td>14190000</td>\n",
              "      <td>firstround_lottery</td>\n",
              "    </tr>\n",
              "    <tr>\n",
              "      <th>426</th>\n",
              "      <td>25.3</td>\n",
              "      <td>3.9</td>\n",
              "      <td>9.1</td>\n",
              "      <td>0.2</td>\n",
              "      <td>4</td>\n",
              "      <td>Guard</td>\n",
              "      <td>8326471</td>\n",
              "      <td>firstround_lottery</td>\n",
              "    </tr>\n",
              "    <tr>\n",
              "      <th>427</th>\n",
              "      <td>5.3</td>\n",
              "      <td>5.3</td>\n",
              "      <td>0.9</td>\n",
              "      <td>0.4</td>\n",
              "      <td>1</td>\n",
              "      <td>Center</td>\n",
              "      <td>1489065</td>\n",
              "      <td>undrafted</td>\n",
              "    </tr>\n",
              "    <tr>\n",
              "      <th>428</th>\n",
              "      <td>8.3</td>\n",
              "      <td>6.5</td>\n",
              "      <td>1.1</td>\n",
              "      <td>0.8</td>\n",
              "      <td>6</td>\n",
              "      <td>Center</td>\n",
              "      <td>7518518</td>\n",
              "      <td>second_round</td>\n",
              "    </tr>\n",
              "  </tbody>\n",
              "</table>\n",
              "<p>429 rows × 8 columns</p>\n",
              "</div>"
            ],
            "text/plain": [
              "      PTS  REB  AST  BLK  SEASON_EXP POSITION    SALARY  \\\n",
              "0     7.2  5.1  0.8  0.5           2  Forward   2711280   \n",
              "1     9.3  8.0  1.5  0.9           9   Center  17073171   \n",
              "2    13.5  8.3  3.5  0.9           5   Center  28103550   \n",
              "3     4.1  2.7  0.7  0.3           1  Forward   1994520   \n",
              "4    19.1  8.1  1.9  1.1          16   Center   2641691   \n",
              "..    ...  ...  ...  ...         ...      ...       ...   \n",
              "424   7.2  3.2  3.0  0.4           7    Guard   8526316   \n",
              "425  12.8  5.8  1.8  0.4          15  Forward  14190000   \n",
              "426  25.3  3.9  9.1  0.2           4    Guard   8326471   \n",
              "427   5.3  5.3  0.9  0.4           1   Center   1489065   \n",
              "428   8.3  6.5  1.1  0.8           6   Center   7518518   \n",
              "\n",
              "                      DRAFT  \n",
              "0    firstround_non_lottery  \n",
              "1        firstround_lottery  \n",
              "2        firstround_lottery  \n",
              "3    firstround_non_lottery  \n",
              "4        firstround_lottery  \n",
              "..                      ...  \n",
              "424  firstround_non_lottery  \n",
              "425      firstround_lottery  \n",
              "426      firstround_lottery  \n",
              "427               undrafted  \n",
              "428            second_round  \n",
              "\n",
              "[429 rows x 8 columns]"
            ]
          },
          "execution_count": 95,
          "metadata": {},
          "output_type": "execute_result"
        }
      ],
      "source": [
        "mv_regression_df.DRAFT_NUMBER = mv_regression_df.DRAFT_NUMBER.replace('Undrafted',99) # Creates a bin limit for the last category, 99 places it last\n",
        "mv_regression_df.DRAFT_NUMBER = mv_regression_df.DRAFT_NUMBER.astype(int)\n",
        "bins = [0,15,30,60,99] # Creates upper and lower limits of each bin\n",
        "categories = ['firstround_lottery', 'firstround_non_lottery', 'second_round', 'undrafted'] # Category name of each bin\n",
        "mv_regression_df['DRAFT']= pd.cut(mv_regression_df['DRAFT_NUMBER'], bins, labels=categories) # pd.cur creates the bins categories given the 'bins' and 'ctegories' lists\n",
        "mv_regression_df = mv_regression_df.drop(columns=['DRAFT_NUMBER'])\n",
        "mv_regression_df\n"
      ]
    },
    {
      "cell_type": "markdown",
      "id": "TcTtv0OoN9Ov",
      "metadata": {
        "id": "TcTtv0OoN9Ov"
      },
      "source": [
        "*Don't change anything in this cell, just make it run correctly*"
      ]
    },
    {
      "cell_type": "code",
      "execution_count": 96,
      "id": "E0mxpgq9K_eJ",
      "metadata": {
        "id": "E0mxpgq9K_eJ"
      },
      "outputs": [
        {
          "name": "stdout",
          "output_type": "stream",
          "text": [
            "Success!\n"
          ]
        }
      ],
      "source": [
        "if mv_regression_df[\"DRAFT\"].iloc[34] == 'firstround_lottery' and mv_regression_df[\"DRAFT\"].iloc[105] == 'second_round':\n",
        "  print('Success!')\n",
        "else:\n",
        "  raise ValueError('The draft categories are incorrect, please review your function')"
      ]
    },
    {
      "cell_type": "markdown",
      "id": "37a55237-cb04-4c38-bef3-8c363f9dbe5c",
      "metadata": {
        "id": "37a55237-cb04-4c38-bef3-8c363f9dbe5c"
      },
      "source": [
        "1.12. Encode the categorical features: DRAFT, POSITION"
      ]
    },
    {
      "cell_type": "code",
      "execution_count": 97,
      "id": "c565394e-5d44-4418-a33b-eaa801062dbc",
      "metadata": {
        "id": "c565394e-5d44-4418-a33b-eaa801062dbc"
      },
      "outputs": [
        {
          "data": {
            "text/html": [
              "<div>\n",
              "<style scoped>\n",
              "    .dataframe tbody tr th:only-of-type {\n",
              "        vertical-align: middle;\n",
              "    }\n",
              "\n",
              "    .dataframe tbody tr th {\n",
              "        vertical-align: top;\n",
              "    }\n",
              "\n",
              "    .dataframe thead th {\n",
              "        text-align: right;\n",
              "    }\n",
              "</style>\n",
              "<table border=\"1\" class=\"dataframe\">\n",
              "  <thead>\n",
              "    <tr style=\"text-align: right;\">\n",
              "      <th></th>\n",
              "      <th>PTS</th>\n",
              "      <th>REB</th>\n",
              "      <th>AST</th>\n",
              "      <th>BLK</th>\n",
              "      <th>SEASON_EXP</th>\n",
              "      <th>SALARY</th>\n",
              "      <th>DRAFT_firstround_lottery</th>\n",
              "      <th>DRAFT_firstround_non_lottery</th>\n",
              "      <th>DRAFT_second_round</th>\n",
              "      <th>DRAFT_undrafted</th>\n",
              "      <th>POSITION_Center</th>\n",
              "      <th>POSITION_Forward</th>\n",
              "      <th>POSITION_Guard</th>\n",
              "    </tr>\n",
              "  </thead>\n",
              "  <tbody>\n",
              "    <tr>\n",
              "      <th>0</th>\n",
              "      <td>7.2</td>\n",
              "      <td>5.1</td>\n",
              "      <td>0.8</td>\n",
              "      <td>0.5</td>\n",
              "      <td>2</td>\n",
              "      <td>2711280</td>\n",
              "      <td>0.0</td>\n",
              "      <td>1.0</td>\n",
              "      <td>0.0</td>\n",
              "      <td>0.0</td>\n",
              "      <td>0.0</td>\n",
              "      <td>1.0</td>\n",
              "      <td>0.0</td>\n",
              "    </tr>\n",
              "    <tr>\n",
              "      <th>1</th>\n",
              "      <td>9.3</td>\n",
              "      <td>8.0</td>\n",
              "      <td>1.5</td>\n",
              "      <td>0.9</td>\n",
              "      <td>9</td>\n",
              "      <td>17073171</td>\n",
              "      <td>1.0</td>\n",
              "      <td>0.0</td>\n",
              "      <td>0.0</td>\n",
              "      <td>0.0</td>\n",
              "      <td>1.0</td>\n",
              "      <td>0.0</td>\n",
              "      <td>0.0</td>\n",
              "    </tr>\n",
              "    <tr>\n",
              "      <th>2</th>\n",
              "      <td>13.5</td>\n",
              "      <td>8.3</td>\n",
              "      <td>3.5</td>\n",
              "      <td>0.9</td>\n",
              "      <td>5</td>\n",
              "      <td>28103550</td>\n",
              "      <td>1.0</td>\n",
              "      <td>0.0</td>\n",
              "      <td>0.0</td>\n",
              "      <td>0.0</td>\n",
              "      <td>1.0</td>\n",
              "      <td>0.0</td>\n",
              "      <td>0.0</td>\n",
              "    </tr>\n",
              "    <tr>\n",
              "      <th>3</th>\n",
              "      <td>4.1</td>\n",
              "      <td>2.7</td>\n",
              "      <td>0.7</td>\n",
              "      <td>0.3</td>\n",
              "      <td>1</td>\n",
              "      <td>1994520</td>\n",
              "      <td>0.0</td>\n",
              "      <td>1.0</td>\n",
              "      <td>0.0</td>\n",
              "      <td>0.0</td>\n",
              "      <td>0.0</td>\n",
              "      <td>1.0</td>\n",
              "      <td>0.0</td>\n",
              "    </tr>\n",
              "    <tr>\n",
              "      <th>4</th>\n",
              "      <td>19.1</td>\n",
              "      <td>8.1</td>\n",
              "      <td>1.9</td>\n",
              "      <td>1.1</td>\n",
              "      <td>16</td>\n",
              "      <td>2641691</td>\n",
              "      <td>1.0</td>\n",
              "      <td>0.0</td>\n",
              "      <td>0.0</td>\n",
              "      <td>0.0</td>\n",
              "      <td>1.0</td>\n",
              "      <td>0.0</td>\n",
              "      <td>0.0</td>\n",
              "    </tr>\n",
              "    <tr>\n",
              "      <th>...</th>\n",
              "      <td>...</td>\n",
              "      <td>...</td>\n",
              "      <td>...</td>\n",
              "      <td>...</td>\n",
              "      <td>...</td>\n",
              "      <td>...</td>\n",
              "      <td>...</td>\n",
              "      <td>...</td>\n",
              "      <td>...</td>\n",
              "      <td>...</td>\n",
              "      <td>...</td>\n",
              "      <td>...</td>\n",
              "      <td>...</td>\n",
              "    </tr>\n",
              "    <tr>\n",
              "      <th>424</th>\n",
              "      <td>7.2</td>\n",
              "      <td>3.2</td>\n",
              "      <td>3.0</td>\n",
              "      <td>0.4</td>\n",
              "      <td>7</td>\n",
              "      <td>8526316</td>\n",
              "      <td>0.0</td>\n",
              "      <td>1.0</td>\n",
              "      <td>0.0</td>\n",
              "      <td>0.0</td>\n",
              "      <td>0.0</td>\n",
              "      <td>0.0</td>\n",
              "      <td>1.0</td>\n",
              "    </tr>\n",
              "    <tr>\n",
              "      <th>425</th>\n",
              "      <td>12.8</td>\n",
              "      <td>5.8</td>\n",
              "      <td>1.8</td>\n",
              "      <td>0.4</td>\n",
              "      <td>15</td>\n",
              "      <td>14190000</td>\n",
              "      <td>1.0</td>\n",
              "      <td>0.0</td>\n",
              "      <td>0.0</td>\n",
              "      <td>0.0</td>\n",
              "      <td>0.0</td>\n",
              "      <td>1.0</td>\n",
              "      <td>0.0</td>\n",
              "    </tr>\n",
              "    <tr>\n",
              "      <th>426</th>\n",
              "      <td>25.3</td>\n",
              "      <td>3.9</td>\n",
              "      <td>9.1</td>\n",
              "      <td>0.2</td>\n",
              "      <td>4</td>\n",
              "      <td>8326471</td>\n",
              "      <td>1.0</td>\n",
              "      <td>0.0</td>\n",
              "      <td>0.0</td>\n",
              "      <td>0.0</td>\n",
              "      <td>0.0</td>\n",
              "      <td>0.0</td>\n",
              "      <td>1.0</td>\n",
              "    </tr>\n",
              "    <tr>\n",
              "      <th>427</th>\n",
              "      <td>5.3</td>\n",
              "      <td>5.3</td>\n",
              "      <td>0.9</td>\n",
              "      <td>0.4</td>\n",
              "      <td>1</td>\n",
              "      <td>1489065</td>\n",
              "      <td>0.0</td>\n",
              "      <td>0.0</td>\n",
              "      <td>0.0</td>\n",
              "      <td>1.0</td>\n",
              "      <td>1.0</td>\n",
              "      <td>0.0</td>\n",
              "      <td>0.0</td>\n",
              "    </tr>\n",
              "    <tr>\n",
              "      <th>428</th>\n",
              "      <td>8.3</td>\n",
              "      <td>6.5</td>\n",
              "      <td>1.1</td>\n",
              "      <td>0.8</td>\n",
              "      <td>6</td>\n",
              "      <td>7518518</td>\n",
              "      <td>0.0</td>\n",
              "      <td>0.0</td>\n",
              "      <td>1.0</td>\n",
              "      <td>0.0</td>\n",
              "      <td>1.0</td>\n",
              "      <td>0.0</td>\n",
              "      <td>0.0</td>\n",
              "    </tr>\n",
              "  </tbody>\n",
              "</table>\n",
              "<p>429 rows × 13 columns</p>\n",
              "</div>"
            ],
            "text/plain": [
              "      PTS  REB  AST  BLK  SEASON_EXP    SALARY  DRAFT_firstround_lottery  \\\n",
              "0     7.2  5.1  0.8  0.5           2   2711280                       0.0   \n",
              "1     9.3  8.0  1.5  0.9           9  17073171                       1.0   \n",
              "2    13.5  8.3  3.5  0.9           5  28103550                       1.0   \n",
              "3     4.1  2.7  0.7  0.3           1   1994520                       0.0   \n",
              "4    19.1  8.1  1.9  1.1          16   2641691                       1.0   \n",
              "..    ...  ...  ...  ...         ...       ...                       ...   \n",
              "424   7.2  3.2  3.0  0.4           7   8526316                       0.0   \n",
              "425  12.8  5.8  1.8  0.4          15  14190000                       1.0   \n",
              "426  25.3  3.9  9.1  0.2           4   8326471                       1.0   \n",
              "427   5.3  5.3  0.9  0.4           1   1489065                       0.0   \n",
              "428   8.3  6.5  1.1  0.8           6   7518518                       0.0   \n",
              "\n",
              "     DRAFT_firstround_non_lottery  DRAFT_second_round  DRAFT_undrafted  \\\n",
              "0                             1.0                 0.0              0.0   \n",
              "1                             0.0                 0.0              0.0   \n",
              "2                             0.0                 0.0              0.0   \n",
              "3                             1.0                 0.0              0.0   \n",
              "4                             0.0                 0.0              0.0   \n",
              "..                            ...                 ...              ...   \n",
              "424                           1.0                 0.0              0.0   \n",
              "425                           0.0                 0.0              0.0   \n",
              "426                           0.0                 0.0              0.0   \n",
              "427                           0.0                 0.0              1.0   \n",
              "428                           0.0                 1.0              0.0   \n",
              "\n",
              "     POSITION_Center  POSITION_Forward  POSITION_Guard  \n",
              "0                0.0               1.0             0.0  \n",
              "1                1.0               0.0             0.0  \n",
              "2                1.0               0.0             0.0  \n",
              "3                0.0               1.0             0.0  \n",
              "4                1.0               0.0             0.0  \n",
              "..               ...               ...             ...  \n",
              "424              0.0               0.0             1.0  \n",
              "425              0.0               1.0             0.0  \n",
              "426              0.0               0.0             1.0  \n",
              "427              1.0               0.0             0.0  \n",
              "428              1.0               0.0             0.0  \n",
              "\n",
              "[429 rows x 13 columns]"
            ]
          },
          "execution_count": 97,
          "metadata": {},
          "output_type": "execute_result"
        }
      ],
      "source": [
        "onehot_encoder = OneHotEncoder(handle_unknown='ignore', categories='auto')\n",
        "encoder_draft_position_df = pd.DataFrame(onehot_encoder.fit_transform(mv_regression_df[['DRAFT', 'POSITION']]).toarray())\n",
        "mv_regression_df = mv_regression_df.join(encoder_draft_position_df)\n",
        "mv_regression_df = mv_regression_df.rename(columns = {0:'DRAFT_firstround_lottery', 1:'DRAFT_firstround_non_lottery',2:'DRAFT_second_round', 3:'DRAFT_undrafted',\n",
        "                                                      4:'POSITION_Center', 5:'POSITION_Forward', 6:'POSITION_Guard' })\n",
        "mv_regression_df = mv_regression_df.drop(columns=['DRAFT' , 'POSITION'])\n",
        "mv_regression_df\n",
        "\n",
        "\n"
      ]
    },
    {
      "cell_type": "markdown",
      "id": "0kqplv_vO4H3",
      "metadata": {
        "id": "0kqplv_vO4H3"
      },
      "source": [
        "*Don't change anything in this cell, just make it run correctly*"
      ]
    },
    {
      "cell_type": "code",
      "execution_count": 98,
      "id": "RvdSf5VcO5Y1",
      "metadata": {
        "id": "RvdSf5VcO5Y1"
      },
      "outputs": [
        {
          "name": "stdout",
          "output_type": "stream",
          "text": [
            "Success!\n"
          ]
        }
      ],
      "source": [
        "if mv_regression_df[\"DRAFT_firstround_non_lottery\"].iloc[134] == 1 and mv_regression_df[\"POSITION_Forward\"].iloc[205] == 0:\n",
        "  print('Success!')\n",
        "else:\n",
        "  raise ValueError('The draft categories are incorrect, please review your function')"
      ]
    },
    {
      "cell_type": "markdown",
      "id": "9816d9d4-b44d-4bb7-9cad-156daee9dc50",
      "metadata": {
        "id": "9816d9d4-b44d-4bb7-9cad-156daee9dc50"
      },
      "source": [
        "#### Modeling"
      ]
    },
    {
      "cell_type": "markdown",
      "id": "1eb528f1-852e-428e-b97c-40b412985f98",
      "metadata": {
        "id": "1eb528f1-852e-428e-b97c-40b412985f98"
      },
      "source": [
        "1.13. Split the dataset into train and test. \n",
        "\n",
        "\n",
        "**Note 1:** Before using scikit-learn `train_test_split()`, separate your dataframe into features and labels. Assign your features to `X` variable and labels to `y`.\n",
        "\n",
        "**Note 2:** Remember to drop `DRAFT_NUMBER` column if you haven't done that before"
      ]
    },
    {
      "cell_type": "code",
      "execution_count": 99,
      "id": "7696efd0-94f8-49ce-846f-4fd24a01b0fd",
      "metadata": {
        "id": "7696efd0-94f8-49ce-846f-4fd24a01b0fd"
      },
      "outputs": [],
      "source": [
        "# TODO: Put here your features\n",
        "X = mv_regression_df.drop(columns=['SALARY'])\n",
        "# TODO: Put here your labels\n",
        "y = mv_regression_df['SALARY']\n",
        "\n",
        "# TODO: Now use train_test_split()\n",
        "X_train, X_test, y_train, y_test = train_test_split(X,y,test_size=0.2,random_state=2611,shuffle=True)"
      ]
    },
    {
      "cell_type": "markdown",
      "id": "O_hN_VyuQhxt",
      "metadata": {
        "id": "O_hN_VyuQhxt"
      },
      "source": [
        "*Don't change anything in this cell, just make it run correctly*"
      ]
    },
    {
      "cell_type": "code",
      "execution_count": 100,
      "id": "R9r19mhiQiJh",
      "metadata": {
        "id": "R9r19mhiQiJh"
      },
      "outputs": [
        {
          "name": "stdout",
          "output_type": "stream",
          "text": [
            "Success!\n"
          ]
        }
      ],
      "source": [
        "if X.BLK.iloc[353] == 0.1 and y.iloc[400] == 8729020:\n",
        "  print('Success!')\n",
        "else:\n",
        "  raise ValueError('The draft categories are incorrect, please review your function')"
      ]
    },
    {
      "cell_type": "markdown",
      "id": "b2540df8-ac16-4ad1-b8cf-028f566faa06",
      "metadata": {
        "id": "b2540df8-ac16-4ad1-b8cf-028f566faa06"
      },
      "source": [
        "1.14. Perform feature scaling in all the numerical features (\"PTS\", \"REB\", \"AST\", \"BLK\", \"SEASON_EXP\") except for draft number (which we will tackle next)."
      ]
    },
    {
      "cell_type": "code",
      "execution_count": 101,
      "id": "94c1b356-8f74-4a20-8b9d-9dd61b6e3dec",
      "metadata": {
        "id": "94c1b356-8f74-4a20-8b9d-9dd61b6e3dec"
      },
      "outputs": [
        {
          "data": {
            "text/html": [
              "<div>\n",
              "<style scoped>\n",
              "    .dataframe tbody tr th:only-of-type {\n",
              "        vertical-align: middle;\n",
              "    }\n",
              "\n",
              "    .dataframe tbody tr th {\n",
              "        vertical-align: top;\n",
              "    }\n",
              "\n",
              "    .dataframe thead th {\n",
              "        text-align: right;\n",
              "    }\n",
              "</style>\n",
              "<table border=\"1\" class=\"dataframe\">\n",
              "  <thead>\n",
              "    <tr style=\"text-align: right;\">\n",
              "      <th></th>\n",
              "      <th>PTS</th>\n",
              "      <th>REB</th>\n",
              "      <th>AST</th>\n",
              "      <th>BLK</th>\n",
              "      <th>SEASON_EXP</th>\n",
              "      <th>DRAFT_firstround_lottery</th>\n",
              "      <th>DRAFT_firstround_non_lottery</th>\n",
              "      <th>DRAFT_second_round</th>\n",
              "      <th>DRAFT_undrafted</th>\n",
              "      <th>POSITION_Center</th>\n",
              "      <th>POSITION_Forward</th>\n",
              "      <th>POSITION_Guard</th>\n",
              "    </tr>\n",
              "  </thead>\n",
              "  <tbody>\n",
              "    <tr>\n",
              "      <th>204</th>\n",
              "      <td>0.772306</td>\n",
              "      <td>0.766591</td>\n",
              "      <td>-0.263277</td>\n",
              "      <td>-0.665898</td>\n",
              "      <td>-0.673172</td>\n",
              "      <td>0.0</td>\n",
              "      <td>1.0</td>\n",
              "      <td>0.0</td>\n",
              "      <td>0.0</td>\n",
              "      <td>0.0</td>\n",
              "      <td>1.0</td>\n",
              "      <td>0.0</td>\n",
              "    </tr>\n",
              "    <tr>\n",
              "      <th>410</th>\n",
              "      <td>0.423548</td>\n",
              "      <td>3.090209</td>\n",
              "      <td>-0.983308</td>\n",
              "      <td>4.062942</td>\n",
              "      <td>1.076055</td>\n",
              "      <td>0.0</td>\n",
              "      <td>0.0</td>\n",
              "      <td>1.0</td>\n",
              "      <td>0.0</td>\n",
              "      <td>1.0</td>\n",
              "      <td>0.0</td>\n",
              "      <td>0.0</td>\n",
              "    </tr>\n",
              "    <tr>\n",
              "      <th>138</th>\n",
              "      <td>0.384797</td>\n",
              "      <td>3.508461</td>\n",
              "      <td>-0.563290</td>\n",
              "      <td>4.062942</td>\n",
              "      <td>0.826165</td>\n",
              "      <td>0.0</td>\n",
              "      <td>1.0</td>\n",
              "      <td>0.0</td>\n",
              "      <td>0.0</td>\n",
              "      <td>1.0</td>\n",
              "      <td>0.0</td>\n",
              "      <td>0.0</td>\n",
              "    </tr>\n",
              "    <tr>\n",
              "      <th>296</th>\n",
              "      <td>-1.010234</td>\n",
              "      <td>-1.092304</td>\n",
              "      <td>0.036736</td>\n",
              "      <td>-0.665898</td>\n",
              "      <td>-0.173393</td>\n",
              "      <td>1.0</td>\n",
              "      <td>0.0</td>\n",
              "      <td>0.0</td>\n",
              "      <td>0.0</td>\n",
              "      <td>0.0</td>\n",
              "      <td>0.0</td>\n",
              "      <td>1.0</td>\n",
              "    </tr>\n",
              "    <tr>\n",
              "      <th>47</th>\n",
              "      <td>-1.746501</td>\n",
              "      <td>-1.371138</td>\n",
              "      <td>-0.983308</td>\n",
              "      <td>-1.138782</td>\n",
              "      <td>-1.172950</td>\n",
              "      <td>0.0</td>\n",
              "      <td>1.0</td>\n",
              "      <td>0.0</td>\n",
              "      <td>0.0</td>\n",
              "      <td>0.0</td>\n",
              "      <td>1.0</td>\n",
              "      <td>0.0</td>\n",
              "    </tr>\n",
              "    <tr>\n",
              "      <th>...</th>\n",
              "      <td>...</td>\n",
              "      <td>...</td>\n",
              "      <td>...</td>\n",
              "      <td>...</td>\n",
              "      <td>...</td>\n",
              "      <td>...</td>\n",
              "      <td>...</td>\n",
              "      <td>...</td>\n",
              "      <td>...</td>\n",
              "      <td>...</td>\n",
              "      <td>...</td>\n",
              "      <td>...</td>\n",
              "    </tr>\n",
              "    <tr>\n",
              "      <th>134</th>\n",
              "      <td>-0.273968</td>\n",
              "      <td>0.906008</td>\n",
              "      <td>-0.743298</td>\n",
              "      <td>1.225638</td>\n",
              "      <td>1.825723</td>\n",
              "      <td>0.0</td>\n",
              "      <td>1.0</td>\n",
              "      <td>0.0</td>\n",
              "      <td>0.0</td>\n",
              "      <td>0.0</td>\n",
              "      <td>1.0</td>\n",
              "      <td>0.0</td>\n",
              "    </tr>\n",
              "    <tr>\n",
              "      <th>97</th>\n",
              "      <td>0.171668</td>\n",
              "      <td>-0.906414</td>\n",
              "      <td>-0.023266</td>\n",
              "      <td>-0.902340</td>\n",
              "      <td>0.576276</td>\n",
              "      <td>0.0</td>\n",
              "      <td>0.0</td>\n",
              "      <td>0.0</td>\n",
              "      <td>1.0</td>\n",
              "      <td>0.0</td>\n",
              "      <td>0.0</td>\n",
              "      <td>1.0</td>\n",
              "    </tr>\n",
              "    <tr>\n",
              "      <th>53</th>\n",
              "      <td>-1.126487</td>\n",
              "      <td>0.069505</td>\n",
              "      <td>-1.043311</td>\n",
              "      <td>0.279870</td>\n",
              "      <td>-0.173393</td>\n",
              "      <td>0.0</td>\n",
              "      <td>1.0</td>\n",
              "      <td>0.0</td>\n",
              "      <td>0.0</td>\n",
              "      <td>1.0</td>\n",
              "      <td>0.0</td>\n",
              "      <td>0.0</td>\n",
              "    </tr>\n",
              "    <tr>\n",
              "      <th>82</th>\n",
              "      <td>-0.487097</td>\n",
              "      <td>-0.766997</td>\n",
              "      <td>-0.143272</td>\n",
              "      <td>-0.665898</td>\n",
              "      <td>-1.172950</td>\n",
              "      <td>0.0</td>\n",
              "      <td>1.0</td>\n",
              "      <td>0.0</td>\n",
              "      <td>0.0</td>\n",
              "      <td>0.0</td>\n",
              "      <td>0.0</td>\n",
              "      <td>1.0</td>\n",
              "    </tr>\n",
              "    <tr>\n",
              "      <th>274</th>\n",
              "      <td>-0.138340</td>\n",
              "      <td>-0.859942</td>\n",
              "      <td>0.216744</td>\n",
              "      <td>-0.429456</td>\n",
              "      <td>-0.423282</td>\n",
              "      <td>0.0</td>\n",
              "      <td>0.0</td>\n",
              "      <td>1.0</td>\n",
              "      <td>0.0</td>\n",
              "      <td>0.0</td>\n",
              "      <td>0.0</td>\n",
              "      <td>1.0</td>\n",
              "    </tr>\n",
              "  </tbody>\n",
              "</table>\n",
              "<p>343 rows × 12 columns</p>\n",
              "</div>"
            ],
            "text/plain": [
              "          PTS       REB       AST       BLK  SEASON_EXP  \\\n",
              "204  0.772306  0.766591 -0.263277 -0.665898   -0.673172   \n",
              "410  0.423548  3.090209 -0.983308  4.062942    1.076055   \n",
              "138  0.384797  3.508461 -0.563290  4.062942    0.826165   \n",
              "296 -1.010234 -1.092304  0.036736 -0.665898   -0.173393   \n",
              "47  -1.746501 -1.371138 -0.983308 -1.138782   -1.172950   \n",
              "..        ...       ...       ...       ...         ...   \n",
              "134 -0.273968  0.906008 -0.743298  1.225638    1.825723   \n",
              "97   0.171668 -0.906414 -0.023266 -0.902340    0.576276   \n",
              "53  -1.126487  0.069505 -1.043311  0.279870   -0.173393   \n",
              "82  -0.487097 -0.766997 -0.143272 -0.665898   -1.172950   \n",
              "274 -0.138340 -0.859942  0.216744 -0.429456   -0.423282   \n",
              "\n",
              "     DRAFT_firstround_lottery  DRAFT_firstround_non_lottery  \\\n",
              "204                       0.0                           1.0   \n",
              "410                       0.0                           0.0   \n",
              "138                       0.0                           1.0   \n",
              "296                       1.0                           0.0   \n",
              "47                        0.0                           1.0   \n",
              "..                        ...                           ...   \n",
              "134                       0.0                           1.0   \n",
              "97                        0.0                           0.0   \n",
              "53                        0.0                           1.0   \n",
              "82                        0.0                           1.0   \n",
              "274                       0.0                           0.0   \n",
              "\n",
              "     DRAFT_second_round  DRAFT_undrafted  POSITION_Center  POSITION_Forward  \\\n",
              "204                 0.0              0.0              0.0               1.0   \n",
              "410                 1.0              0.0              1.0               0.0   \n",
              "138                 0.0              0.0              1.0               0.0   \n",
              "296                 0.0              0.0              0.0               0.0   \n",
              "47                  0.0              0.0              0.0               1.0   \n",
              "..                  ...              ...              ...               ...   \n",
              "134                 0.0              0.0              0.0               1.0   \n",
              "97                  0.0              1.0              0.0               0.0   \n",
              "53                  0.0              0.0              1.0               0.0   \n",
              "82                  0.0              0.0              0.0               0.0   \n",
              "274                 1.0              0.0              0.0               0.0   \n",
              "\n",
              "     POSITION_Guard  \n",
              "204             0.0  \n",
              "410             0.0  \n",
              "138             0.0  \n",
              "296             1.0  \n",
              "47              0.0  \n",
              "..              ...  \n",
              "134             0.0  \n",
              "97              1.0  \n",
              "53              0.0  \n",
              "82              1.0  \n",
              "274             1.0  \n",
              "\n",
              "[343 rows x 12 columns]"
            ]
          },
          "execution_count": 101,
          "metadata": {},
          "output_type": "execute_result"
        }
      ],
      "source": [
        "scaler = StandardScaler()\n",
        "X_train[[\"PTS\", \"REB\", \"AST\", \"BLK\", \"SEASON_EXP\"]] = scaler.fit_transform(X_train[[\"PTS\", \"REB\", \"AST\", \"BLK\", \"SEASON_EXP\"]])\n",
        "X_test[[\"PTS\", \"REB\", \"AST\", \"BLK\", \"SEASON_EXP\"]] = scaler.fit_transform(X_test[[\"PTS\", \"REB\", \"AST\", \"BLK\", \"SEASON_EXP\"]])\n",
        "X_train"
      ]
    },
    {
      "cell_type": "markdown",
      "id": "7790c25a-b516-4e3f-b311-6e5b026bfb80",
      "metadata": {
        "id": "7790c25a-b516-4e3f-b311-6e5b026bfb80"
      },
      "source": [
        "1.15. Write a function to train a SGDRegressor model with the new dataset, trying different hyperparameters, and selecting the one that performs the best."
      ]
    },
    {
      "cell_type": "code",
      "execution_count": 102,
      "id": "7d8642f3-895c-4d8d-85b7-80a087a0adef",
      "metadata": {
        "id": "7d8642f3-895c-4d8d-85b7-80a087a0adef"
      },
      "outputs": [],
      "source": [
        "def search_best_hyperparameters_SGDRegressor_multivar(max_iter, eta0, alpha, dfx_train, dfx_test, dfy_train, dfy_test):\n",
        "  result_multivar = {\n",
        "    \"hyperparameters\": {\"max_iter\": None, \"eta0\": None, \"alpha\": None }, \n",
        "    \"mae\": 0\n",
        "  }\n",
        "  \"\"\"\n",
        "    A funtion that looks for the best hyperparameters of an SGDRegressor out of a given list\n",
        "    of values\n",
        "  \"\"\"\n",
        "  \"\"\"\n",
        "    Parameters\n",
        "    ----------\n",
        "    max iter: The maximum number of passes over the training data (aka epochs). It only impacts the behavior in the fit method,\n",
        "               and not the partial_fit method, default=1000.\n",
        "    eta0: The initial learning rate for the 'constant', 'invscaling' or 'adaptive' schedules. The default value is 0.01.\n",
        "    alpha: Constant that multiplies the regularization term. The higher the value, the stronger the regularization.\n",
        "           Also used to compute the learning rate when set to learning_rate is set to 'optimal' default=0.0001.\n",
        "    dfx_train: X_train dataframe of the splitted X dataframe (features)\n",
        "    dfx_test: X_test dataframe of the splitted X dataframe (features)\n",
        "    dfy_train: y_train dataframe of the splitted y dataframe (labels)\n",
        "    dfy_train: y_test dataframe of the splitted y dataframe (labels)\n",
        "    \"\"\"\n",
        "  # Complete your code here\n",
        "  MAE_list = []\n",
        "  for iter in max_iter:\n",
        "    for initial_lr in eta0:\n",
        "      for alph in alpha:\n",
        "        SGDRegressor_multi_var = SGDRegressor(max_iter=iter, eta0=initial_lr, alpha=alph, random_state=2611)\n",
        "        SGDRegressor_multi_var.fit(dfx_train, dfy_train)\n",
        "        y_multi_var_predicted = SGDRegressor_multi_var.predict(dfx_test)\n",
        "        MAE_hyperparameter = round(mean_absolute_error(dfy_test, y_multi_var_predicted), 0)\n",
        "        MAE_list.append(MAE_hyperparameter)\n",
        "        if MAE_hyperparameter == min(MAE_list):\n",
        "          result_multivar['hyperparameters']['max_iter'] = iter\n",
        "          result_multivar['hyperparameters']['eta0'] = initial_lr\n",
        "          result_multivar['hyperparameters']['alpha'] = alph\n",
        "          result_multivar['mae'] = MAE_hyperparameter\n",
        "  \"\"\"\"\n",
        "  Returns\n",
        "    -------\n",
        "    dictionary\n",
        "        a dictionary with the  best combination of hyperparameters out of the given lists of values for each parameter.\n",
        "    \"\"\"\n",
        "  return result_multivar"
      ]
    },
    {
      "cell_type": "code",
      "execution_count": 103,
      "id": "96d93f92",
      "metadata": {},
      "outputs": [
        {
          "name": "stderr",
          "output_type": "stream",
          "text": [
            "c:\\Users\\marco\\AppData\\Local\\pypoetry\\Cache\\virtualenvs\\anyoneai-sprint2-Hzs07fFS-py3.8\\lib\\site-packages\\sklearn\\linear_model\\_stochastic_gradient.py:1527: ConvergenceWarning: Maximum number of iteration reached before convergence. Consider increasing max_iter to improve the fit.\n",
            "  warnings.warn(\n",
            "c:\\Users\\marco\\AppData\\Local\\pypoetry\\Cache\\virtualenvs\\anyoneai-sprint2-Hzs07fFS-py3.8\\lib\\site-packages\\sklearn\\linear_model\\_stochastic_gradient.py:1527: ConvergenceWarning: Maximum number of iteration reached before convergence. Consider increasing max_iter to improve the fit.\n",
            "  warnings.warn(\n",
            "c:\\Users\\marco\\AppData\\Local\\pypoetry\\Cache\\virtualenvs\\anyoneai-sprint2-Hzs07fFS-py3.8\\lib\\site-packages\\sklearn\\linear_model\\_stochastic_gradient.py:1527: ConvergenceWarning: Maximum number of iteration reached before convergence. Consider increasing max_iter to improve the fit.\n",
            "  warnings.warn(\n",
            "c:\\Users\\marco\\AppData\\Local\\pypoetry\\Cache\\virtualenvs\\anyoneai-sprint2-Hzs07fFS-py3.8\\lib\\site-packages\\sklearn\\linear_model\\_stochastic_gradient.py:1527: ConvergenceWarning: Maximum number of iteration reached before convergence. Consider increasing max_iter to improve the fit.\n",
            "  warnings.warn(\n",
            "c:\\Users\\marco\\AppData\\Local\\pypoetry\\Cache\\virtualenvs\\anyoneai-sprint2-Hzs07fFS-py3.8\\lib\\site-packages\\sklearn\\linear_model\\_stochastic_gradient.py:1527: ConvergenceWarning: Maximum number of iteration reached before convergence. Consider increasing max_iter to improve the fit.\n",
            "  warnings.warn(\n",
            "c:\\Users\\marco\\AppData\\Local\\pypoetry\\Cache\\virtualenvs\\anyoneai-sprint2-Hzs07fFS-py3.8\\lib\\site-packages\\sklearn\\linear_model\\_stochastic_gradient.py:1527: ConvergenceWarning: Maximum number of iteration reached before convergence. Consider increasing max_iter to improve the fit.\n",
            "  warnings.warn(\n"
          ]
        },
        {
          "name": "stdout",
          "output_type": "stream",
          "text": [
            "{'hyperparameters': {'max_iter': 1000, 'eta0': 0.0001, 'alpha': 0.0001}, 'mae': 4897475.0}\n"
          ]
        }
      ],
      "source": [
        "# Example list of hyperparameters values\n",
        "max_iter = [1000,10000, 100000, 1000000]\n",
        "eta0 = [0.0001, 0.001, 0.01, 0.1]\n",
        "alpha = [0.00001, 0.0001]\n",
        "result_multivar = search_best_hyperparameters_SGDRegressor_multivar(max_iter, eta0, alpha, X_train, X_test, y_train, y_test)\n",
        "print(result_multivar)"
      ]
    },
    {
      "cell_type": "markdown",
      "id": "33d63bc7-448d-40a6-a314-6602c75e2284",
      "metadata": {
        "id": "33d63bc7-448d-40a6-a314-6602c75e2284"
      },
      "source": [
        "1.16. How did the model performed compared to our univariate models? "
      ]
    },
    {
      "cell_type": "code",
      "execution_count": 104,
      "id": "b8dc264b-1fde-4de3-9099-a526210075fa",
      "metadata": {
        "id": "b8dc264b-1fde-4de3-9099-a526210075fa"
      },
      "outputs": [
        {
          "name": "stdout",
          "output_type": "stream",
          "text": [
            "Mean Absolute Error for each model:\n",
            "Baseline: 7759882.011627907\n",
            "Default SGDRegressor: 5157214.2603347525\n",
            "Best SGDRegressor: 5062847.0\n",
            "Best SGDRegressor Multivariable: 4897475.0\n"
          ]
        }
      ],
      "source": [
        "print(\"Mean Absolute Error for each model:\")\n",
        "print(f\"Baseline: {MAE_baseline}\")\n",
        "print(f\"Default SGDRegressor: {MAE_single_var}\")\n",
        "print(f\"Best SGDRegressor: {result_singlevar['mae']}\")\n",
        "print(f\"Best SGDRegressor Multivariable: {result_multivar['mae']}\")"
      ]
    },
    {
      "cell_type": "markdown",
      "id": "e9992197-563b-4a69-9cd7-97fcb9ee3677",
      "metadata": {
        "id": "e9992197-563b-4a69-9cd7-97fcb9ee3677",
        "tags": []
      },
      "source": [
        "### DecisionTreeRegressor\n",
        "\n",
        "It is possible that this problem might not be easily resolvable by a linear model, or that there could be better types of algorithms to tackle it. As an example, let's try with a very used algorithm, a Decision Tree.\n",
        "\n"
      ]
    },
    {
      "cell_type": "markdown",
      "id": "61930247-d4b0-4bdf-ad98-a421457e2c4a",
      "metadata": {
        "id": "61930247-d4b0-4bdf-ad98-a421457e2c4a"
      },
      "source": [
        "1.17. Create new model using [DecisionTreeRegressor](https://scikit-learn.org/stable/auto_examples/tree/plot_tree_regression.html) from scikit learn. We will use again all variables, and try different configuration for the following hyperparameters:\n",
        "\n",
        "- max_depth\n",
        "- min_samples_leaf\n",
        "- max_features\n",
        "\n",
        "These are all regularization hyperparameters for this algorithm. Read the documentation to get a better grasp of what each one does."
      ]
    },
    {
      "cell_type": "code",
      "execution_count": 105,
      "id": "e743ec9b",
      "metadata": {},
      "outputs": [],
      "source": [
        "# TODO: Put here your features\n",
        "mv_regression_df2 = mv_regression_df.copy(deep=True)\n",
        "mv_regression_df2['AGE'] = data['AGE']\n",
        "X = mv_regression_df2.drop(columns=['SALARY'])\n",
        "# TODO: Put here your labels\n",
        "y = mv_regression_df2['SALARY']\n",
        "\n",
        "# TODO: Now use train_test_split()\n",
        "X_train, X_test, y_train, y_test = train_test_split(X,y,test_size=0.2,random_state=2611,shuffle=True)"
      ]
    },
    {
      "cell_type": "code",
      "execution_count": 106,
      "id": "ae4ea820",
      "metadata": {},
      "outputs": [],
      "source": [
        "scaler = StandardScaler()\n",
        "X_train[[\"PTS\", \"REB\", \"AST\", \"BLK\", \"SEASON_EXP\", \"AGE\"]] = scaler.fit_transform(X_train[[\"PTS\", \"REB\", \"AST\", \"BLK\", \"SEASON_EXP\", \"AGE\"]])\n",
        "X_test[[\"PTS\", \"REB\", \"AST\", \"BLK\", \"SEASON_EXP\", \"AGE\"]] = scaler.fit_transform(X_test[[\"PTS\", \"REB\", \"AST\", \"BLK\", \"SEASON_EXP\", \"AGE\"]])"
      ]
    },
    {
      "cell_type": "code",
      "execution_count": 107,
      "id": "6205b2b9",
      "metadata": {},
      "outputs": [],
      "source": [
        "def search_best_hyperparameters_DecisionTreeRegressor(max_depth, min_samples_leaf, max_features, dfx_train, dfx_test, dfy_train, dfy_test):\n",
        "  result_decisionTreeRegressor = {\n",
        "    \"hyperparameters\": {\"max_depth\": None, \"min_samples_leaf\": None, \"max_features\": None }, \n",
        "    \"mae\": 0\n",
        "  }\n",
        "  \"\"\"\n",
        "    A funtion that looks for the best hyperparameters of an DecisionTreeRegressor out of a given range\n",
        "    of values\n",
        "  \"\"\"\n",
        "  \"\"\"\n",
        "    Parameters\n",
        "    ----------\n",
        "    max_depth: The maximum depth of the tree. If None, then nodes are expanded until all leaves are pure or until \n",
        "               all leaves contain less than min_samples_split samples, default=None.\n",
        "    min_samples_leaf: The minimum number of samples required to be at a leaf node, default=1.\n",
        "    max_features: The number of features to consider when looking for the best split, default=None .\n",
        "    dfx_train: X_train dataframe of the splitted X dataframe (features)\n",
        "    dfx_test: X_test dataframe of the splitted X dataframe (features)\n",
        "    dfy_train: y_train dataframe of the splitted y dataframe (labels)\n",
        "    dfy_train: y_test dataframe of the splitted y dataframe (labels)\n",
        "    \"\"\"\n",
        "  # Complete your code here\n",
        "  MAE_list = []\n",
        "  for depth in max_depth:\n",
        "    for sample in min_samples_leaf:\n",
        "      for feature in max_features:\n",
        "        dt_model = DecisionTreeRegressor(max_depth=depth,min_samples_leaf=sample, max_features=feature, random_state=2611)\n",
        "        dt_model.fit(dfx_train, dfy_train)\n",
        "        y_single_var_predicted = dt_model.predict(dfx_test)\n",
        "        MAE_hyperparameter = round(mean_absolute_error(dfy_test, y_single_var_predicted), 0)\n",
        "        MAE_list.append(MAE_hyperparameter)\n",
        "        if MAE_hyperparameter == min(MAE_list):\n",
        "          result_decisionTreeRegressor['hyperparameters']['max_depth'] = depth\n",
        "          result_decisionTreeRegressor['hyperparameters']['min_samples_leaf'] = sample\n",
        "          result_decisionTreeRegressor['hyperparameters']['max_features'] = feature\n",
        "          result_decisionTreeRegressor['mae'] = MAE_hyperparameter\n",
        "\n",
        "  \"\"\"\"\n",
        "  Returns\n",
        "    -------\n",
        "    dictionary\n",
        "        a dictionary with the  best combination of hyperparameters out of the given lists of values for each parameter.\n",
        "    \"\"\"\n",
        "  return result_decisionTreeRegressor"
      ]
    },
    {
      "cell_type": "code",
      "execution_count": 108,
      "id": "d393cdae-c2d7-40a0-a518-19f007edb242",
      "metadata": {
        "id": "d393cdae-c2d7-40a0-a518-19f007edb242"
      },
      "outputs": [
        {
          "name": "stdout",
          "output_type": "stream",
          "text": [
            "{'hyperparameters': {'max_depth': 6, 'min_samples_leaf': 1, 'max_features': 12}, 'mae': 2766252.0}\n"
          ]
        }
      ],
      "source": [
        "# List of hyperparameter example values\n",
        "max_depth = range(5,50)  \n",
        "min_samples_leaf = range(1,50)  \n",
        "max_features = range(5,15) \n",
        "result_decisionTreeRegressor = search_best_hyperparameters_DecisionTreeRegressor(max_depth, min_samples_leaf, max_features, X_train, X_test, y_train, y_test)\n",
        "print(result_decisionTreeRegressor)"
      ]
    },
    {
      "cell_type": "markdown",
      "id": "71ef72fc-7386-433c-9725-2055f4016ae9",
      "metadata": {
        "id": "71ef72fc-7386-433c-9725-2055f4016ae9"
      },
      "source": [
        "1.18. Compare the results obtained with the best decision tree model against the baseline, default and the best params sgd regressors-"
      ]
    },
    {
      "cell_type": "code",
      "execution_count": 109,
      "id": "af1084d8-97a4-4618-b4f4-0952e0b39f09",
      "metadata": {
        "id": "af1084d8-97a4-4618-b4f4-0952e0b39f09"
      },
      "outputs": [
        {
          "name": "stdout",
          "output_type": "stream",
          "text": [
            "Mean Absolute Error for each model:\n",
            "Baseline: 7759882.011627907\n",
            "Default SGDRegressor: 5157214.2603347525\n",
            "Best SGDRegressor: 5062847.0\n",
            "Best SGDRegressor Multivariable: 4897475.0\n",
            "Best DecisionTreeRegressor: 2766252.0\n"
          ]
        }
      ],
      "source": [
        "print(\"Mean Absolute Error for each model:\")\n",
        "print(f\"Baseline: {MAE_baseline}\")\n",
        "print(f\"Default SGDRegressor: {MAE_single_var}\")\n",
        "print(f\"Best SGDRegressor: {result_singlevar['mae']}\")\n",
        "print(f\"Best SGDRegressor Multivariable: {result_multivar['mae']}\")\n",
        "print(f\"Best DecisionTreeRegressor: {result_decisionTreeRegressor['mae']}\")"
      ]
    },
    {
      "cell_type": "markdown",
      "id": "ce424a87-37af-470d-9a14-ec6ae2258eb1",
      "metadata": {
        "id": "ce424a87-37af-470d-9a14-ec6ae2258eb1"
      },
      "source": [
        "### Analyzing our results"
      ]
    },
    {
      "cell_type": "markdown",
      "id": "ed6c9746-ed98-4075-9a6a-adb24056d217",
      "metadata": {
        "id": "ed6c9746-ed98-4075-9a6a-adb24056d217"
      },
      "source": [
        "Based on what you found, and what you read about players salaries above, answer the following: "
      ]
    },
    {
      "cell_type": "markdown",
      "id": "e204456d-cb86-47a0-9c3c-6307d8a831fa",
      "metadata": {
        "id": "e204456d-cb86-47a0-9c3c-6307d8a831fa"
      },
      "source": [
        "1.19. Which kind of model worked better in this dataset, linear or non linear models? Do you have any hypothesis about why? "
      ]
    },
    {
      "cell_type": "code",
      "execution_count": 110,
      "id": "7f384324-76df-435c-97f5-57ccfd25157a",
      "metadata": {
        "id": "7f384324-76df-435c-97f5-57ccfd25157a"
      },
      "outputs": [
        {
          "data": {
            "text/plain": [
              "' The non linear DecisionTreeRegressor model worked much better than the linear SGDRegressor model in this dataset,\\n The reason is that the salary depends on variables which at the same time depend on other variable hence the degree of the non linearity, \\n so breaking the dataset into smaller subsets or desicion nodes will result in a better prediction.'"
            ]
          },
          "execution_count": 110,
          "metadata": {},
          "output_type": "execute_result"
        }
      ],
      "source": [
        "\"\"\" The non linear DecisionTreeRegressor model worked much better than the linear SGDRegressor model in this dataset,\n",
        " The reason is that the salary depends on variables which at the same time depend on other variable hence the degree of the non linearity, \n",
        " so breaking the dataset into smaller subsets or desicion nodes will result in a better prediction.\"\"\""
      ]
    },
    {
      "cell_type": "markdown",
      "id": "f09e5c20-3f7b-4938-a1b3-34ada990f181",
      "metadata": {
        "id": "f09e5c20-3f7b-4938-a1b3-34ada990f181"
      },
      "source": [
        "1.20. Is there something else we could do to improve our results if wanted to make a more accurate model?"
      ]
    },
    {
      "cell_type": "code",
      "execution_count": 111,
      "id": "9epaygXxJH-9",
      "metadata": {
        "id": "9epaygXxJH-9"
      },
      "outputs": [
        {
          "data": {
            "text/plain": [
              "\"I added 'AGE' as a feature to the DecisionTreeRegressor model and it improved noticeably, I would Hotcode the 'TEAM_NAME' column and add it to the model dataframe, \\n   then run the Best_Hyperparameter funtion to make the model more accurate, A RandomForestRegressor algorithm could also be used to improve accuracy\""
            ]
          },
          "execution_count": 111,
          "metadata": {},
          "output_type": "execute_result"
        }
      ],
      "source": [
        "\"\"\"I added 'AGE' as a feature to the DecisionTreeRegressor model and it improved noticeably, I would Hotcode the 'TEAM_NAME' column and add it to the model dataframe, \n",
        "   then run the Best_Hyperparameter funtion to make the model more accurate, A RandomForestRegressor algorithm could also be used to improve accuracy\"\"\""
      ]
    },
    {
      "cell_type": "markdown",
      "id": "25e23c2a-a0bf-4d39-bc1b-9524107f3a02",
      "metadata": {
        "id": "25e23c2a-a0bf-4d39-bc1b-9524107f3a02",
        "tags": []
      },
      "source": [
        "## 2. Predicting players All-NBA selections"
      ]
    },
    {
      "cell_type": "markdown",
      "id": "26cd4fec-1b8b-4bfc-8024-dcdd5b8b803a",
      "metadata": {
        "id": "26cd4fec-1b8b-4bfc-8024-dcdd5b8b803a"
      },
      "source": [
        "In this section we're going to try to solve a different question:\n",
        "\n",
        "Can we train a model to predict which players are going to be selected to ALL-NBA teams at the end of the season? This is a [binary classification](https://en.wikipedia.org/wiki/Binary_classification) task, so we're training our first classifier model to solve this problem.\n",
        "\n",
        "Consider that:\n",
        "\n",
        "- Being selected as part of the [All-NBA teams](https://en.wikipedia.org/wiki/All-NBA_Team) is different than being selected for [All-Star Game](https://en.wikipedia.org/wiki/NBA_All-Star_Game). \n",
        "- You're trying to predict All-NBA selections, which takes place after the regular season but before playoffs start, so we're only going to use players and teams statistics about the regular season (you're not going to consider if the players got to the NBA finals for example). \n",
        "- All Star game takes place at the middle point of the regular season, players are selected based on partial season performance, and the general public has 50% of the votes, so it is also a more popularity-based award.\n",
        "- All-NBA teams are divided in first, second and third teams of 5 players each, divided by position: 2 front court players (guards), 2 backcourt players (forwards) and 1 center.\n",
        "- As only 15 players are selected to All-NBA teams each year (out of more than 400 qualifying players), our dataset is going to be imbalanced. You're going to have to find a good strategy to deal with this inbalance."
      ]
    },
    {
      "cell_type": "markdown",
      "id": "ef2353fa-10d7-48d1-85d7-f8743ee86698",
      "metadata": {
        "id": "ef2353fa-10d7-48d1-85d7-f8743ee86698"
      },
      "source": [
        "### Analyzing the data"
      ]
    },
    {
      "cell_type": "markdown",
      "id": "d4159ce5-fec3-48bb-93c5-058f2cbb55c5",
      "metadata": {
        "id": "d4159ce5-fec3-48bb-93c5-058f2cbb55c5"
      },
      "source": [
        "To do this task, you're going to need historical information about All-NBA selections. We'll use a dataset that contains information about players from season starting in 1983 and ending in the 2018-2019 season.\n",
        "The dataset contains statistics for all players, and a column named \"all-nba\" that is going to be our target variable, 1 means the player was selected to an All-NBA team that season.\n"
      ]
    },
    {
      "cell_type": "markdown",
      "id": "e6d64103-d6b5-4544-8ca5-81f99c937d73",
      "metadata": {
        "id": "e6d64103-d6b5-4544-8ca5-81f99c937d73"
      },
      "source": [
        "2.1. Load the dataset \"all_nba_1983_2017_dataset.csv\" from disk, look at the data inside it and print:\n",
        "- number of rows\n",
        "- number of seasons\n",
        "- number of unique players\n",
        "- number of all-nba selections vs non selected "
      ]
    },
    {
      "cell_type": "code",
      "execution_count": 112,
      "id": "bb6725f6-418d-4159-b046-3bf33a8ead0b",
      "metadata": {
        "id": "bb6725f6-418d-4159-b046-3bf33a8ead0b"
      },
      "outputs": [],
      "source": [
        "all_nba_df = pd.read_csv(\"https://raw.githubusercontent.com/anyoneai/notebooks/main/datasets/all_nba_1983_2017_dataset.csv\", index_col=0)\n",
        "all_nba_df.to_csv(\"all_nba_teams_dataset_project2.csv\", index=False)"
      ]
    },
    {
      "cell_type": "code",
      "execution_count": 113,
      "id": "cea27e4d",
      "metadata": {},
      "outputs": [],
      "source": [
        "all_nba_df = pd.read_csv(\"all_nba_teams_dataset_project2.csv\")"
      ]
    },
    {
      "cell_type": "code",
      "execution_count": 114,
      "id": "c5c63b79",
      "metadata": {},
      "outputs": [
        {
          "name": "stdout",
          "output_type": "stream",
          "text": [
            " number of rows 14825\n",
            " number of seasons 39\n",
            " number of unique players 2701\n",
            " number of all-nba selections 496 vs non selected 14329\n"
          ]
        }
      ],
      "source": [
        "print(f' number of rows {len(all_nba_df)}')\n",
        "print(f' number of seasons {len(all_nba_df.season_start.unique())}')\n",
        "print(f' number of unique players {len(all_nba_df.player.unique())}')\n",
        "print(f' number of all-nba selections {all_nba_df.all_nba.value_counts()[1]} vs non selected {all_nba_df.all_nba.value_counts()[0]}')"
      ]
    },
    {
      "cell_type": "markdown",
      "id": "f268db59-8c9e-446b-be19-290e608169d2",
      "metadata": {
        "id": "f268db59-8c9e-446b-be19-290e608169d2"
      },
      "source": [
        "### Splitting the dataset"
      ]
    },
    {
      "cell_type": "markdown",
      "id": "6b4916b2-e8cf-4e30-a2ac-e1538c2f5cd5",
      "metadata": {
        "id": "6b4916b2-e8cf-4e30-a2ac-e1538c2f5cd5"
      },
      "source": [
        "2.2. Split the dataset in training and test sets. Make sure to keep the distribution of values in the target variable.\n",
        "\n",
        "Use columns: 'team', 'games', 'games_started', 'mp', 'fg_perc', '3p_perc',\n",
        "       '2p_perc', 'ft_perc', 'trb', 'ast', 'stl', 'blk', 'tov', 'pf', 'pts','all_nba'.\n",
        "\n",
        "**Note:** Assign your features to `X` variable and labels to `y`.\n",
        "\n"
      ]
    },
    {
      "cell_type": "code",
      "execution_count": 115,
      "id": "25cfc4ee-98e7-4b84-98d3-80a91fb44912",
      "metadata": {
        "id": "25cfc4ee-98e7-4b84-98d3-80a91fb44912"
      },
      "outputs": [],
      "source": [
        "# TODO: Put here your features\n",
        "X = all_nba_df[['team', 'games', 'gamesstarted', 'mp', 'fg_perc', '3p_perc','2p_perc', 'ft_perc', 'trb', 'ast', 'stl', 'blk', 'tov', 'pf', 'pts']]\n",
        "# TODO: Put here your labels\n",
        "y = all_nba_df['all_nba']\n",
        "\n",
        "# TODO: Now use train_test_split()\n",
        "X_train, X_test, y_train, y_test = train_test_split(X,y,test_size=0.2,random_state=2611,shuffle=True)"
      ]
    },
    {
      "cell_type": "markdown",
      "id": "KpgcmrW6JX_d",
      "metadata": {
        "id": "KpgcmrW6JX_d"
      },
      "source": [
        "*Don't change anything in this cell, just make it run correctly*"
      ]
    },
    {
      "cell_type": "code",
      "execution_count": 116,
      "id": "N2S6tsHUJXdm",
      "metadata": {
        "id": "N2S6tsHUJXdm"
      },
      "outputs": [
        {
          "name": "stdout",
          "output_type": "stream",
          "text": [
            "Success!\n"
          ]
        }
      ],
      "source": [
        "if X.shape == (14825, 15) and y.shape == (14825,):\n",
        "  print('Success!')\n",
        "else:\n",
        "  raise ValueError('Your features/labels shape is incorrect, please review your code')\n"
      ]
    },
    {
      "cell_type": "markdown",
      "id": "7043db6e-da74-4a04-91d9-4dd0cd830f22",
      "metadata": {
        "id": "7043db6e-da74-4a04-91d9-4dd0cd830f22"
      },
      "source": [
        "### Baseline model and Evaluation Metrics"
      ]
    },
    {
      "cell_type": "markdown",
      "id": "cedaf085-2a23-41ab-a55f-474e2ae6bb9c",
      "metadata": {
        "id": "cedaf085-2a23-41ab-a55f-474e2ae6bb9c"
      },
      "source": [
        "In this oportunity we'll define our baseline model as the model we can train with the minimun amount of work on the dataset. For this you're gonna train a [LogisticRegression](https://scikit-learn.org/stable/modules/generated/sklearn.linear_model.LogisticRegression.html) with default parameters, and without doing any preprocessing to our data."
      ]
    },
    {
      "cell_type": "markdown",
      "id": "67a8999b-2dfe-466b-814c-94ecced9f8dc",
      "metadata": {
        "id": "67a8999b-2dfe-466b-814c-94ecced9f8dc"
      },
      "source": [
        "2.3. Let's start with a simple test. What accuracy would we get if we had a baseline model that always predicted 0 (player not selected to all nba)?"
      ]
    },
    {
      "cell_type": "code",
      "execution_count": 117,
      "id": "4aa3bbfb-d2ce-43bc-aea4-f6f7aab0933c",
      "metadata": {
        "id": "4aa3bbfb-d2ce-43bc-aea4-f6f7aab0933c"
      },
      "outputs": [],
      "source": [
        "class BaselineModel_lr():\n",
        "  \"\"\"\n",
        "  A baseline model that always returns the same value, the mean of the \n",
        "  players salary in the train data\n",
        "\n",
        "  f(x) = 0\n",
        "   \n",
        "  \"\"\"\n",
        "  def __init__(self):\n",
        "    self.w0 = 0\n",
        "    self.w1 = 0\n",
        "\n",
        "  \n",
        "  def fit(self, df_train):\n",
        "    \"\"\"\n",
        "    Fit the training data. \n",
        "    \n",
        "    Parameters\n",
        "    ----------\n",
        "    y_train: Union[pd.Series, np.ndarray]\n",
        "        a pandas series or numpy array containing salary information\n",
        "    \"\"\"\n",
        "    self.w0 = np.dot(df_train,0)\n",
        "    return self.w0\n",
        "      \n",
        "  \n",
        "  def predict(self, df_test):\n",
        "    \"\"\"\n",
        "    Predict salaries \n",
        "    \n",
        "    Parameters\n",
        "    ----------\n",
        "    X: Union[pd.DataFrame, pd.Series, np.ndarray]\n",
        "        a pandas series, dataframe or numpy array with the \n",
        "        \n",
        "    Returns\n",
        "    -------\n",
        "    np.ndarray\n",
        "        a numpy array of the same length as X, with all elements equal to \n",
        "        the mean salary calculated in fit()\n",
        "    \"\"\"\n",
        "    predict_array_shape = np.arange(len(df_test)).T\n",
        "    self.w1 = np.full_like(predict_array_shape, self.w0)\n",
        "    return self.w1"
      ]
    },
    {
      "cell_type": "code",
      "execution_count": 118,
      "id": "a40e47b3",
      "metadata": {},
      "outputs": [
        {
          "name": "stderr",
          "output_type": "stream",
          "text": [
            "c:\\Users\\marco\\AppData\\Local\\pypoetry\\Cache\\virtualenvs\\anyoneai-sprint2-Hzs07fFS-py3.8\\lib\\site-packages\\numpy\\core\\fromnumeric.py:3430: FutureWarning: In a future version, DataFrame.mean(axis=None) will return a scalar mean over the entire DataFrame. To retain the old behavior, use 'frame.mean(axis=0)' or just 'frame.mean()'\n",
            "  return mean(axis=axis, dtype=dtype, out=out, **kwargs)\n",
            "c:\\Users\\marco\\AppData\\Local\\pypoetry\\Cache\\virtualenvs\\anyoneai-sprint2-Hzs07fFS-py3.8\\lib\\site-packages\\numpy\\core\\fromnumeric.py:3430: FutureWarning: The default value of numeric_only in DataFrame.mean is deprecated. In a future version, it will default to False. In addition, specifying 'numeric_only=None' is deprecated. Select only valid columns or specify the value of numeric_only to silence this warning.\n",
            "  return mean(axis=axis, dtype=dtype, out=out, **kwargs)\n"
          ]
        },
        {
          "data": {
            "text/plain": [
              "0.9689713322091063"
            ]
          },
          "execution_count": 118,
          "metadata": {},
          "output_type": "execute_result"
        }
      ],
      "source": [
        "baseline_lr = BaselineModel_lr()\n",
        "y_baseline_predicted_lr = baseline.fit(X_train)\n",
        "y_baseline_predicted_lr = baseline_lr.predict(y_test).round()\n",
        "acuraccy_baseline_lr = accuracy_score(y_test, y_baseline_predicted_lr)\n",
        "acuraccy_baseline_lr"
      ]
    },
    {
      "cell_type": "markdown",
      "id": "a7f436a6-d3fe-4ead-8c09-b450d850b36f",
      "metadata": {
        "id": "a7f436a6-d3fe-4ead-8c09-b450d850b36f"
      },
      "source": [
        "2.4. What does this tells us about the data and the use of accuracy as an evaluation metric?"
      ]
    },
    {
      "cell_type": "code",
      "execution_count": 119,
      "id": "6de87d7c-4f0e-4ffc-b063-cee6eadc4e16",
      "metadata": {
        "id": "6de87d7c-4f0e-4ffc-b063-cee6eadc4e16"
      },
      "outputs": [
        {
          "data": {
            "text/plain": [
              "\" \\nThis is the result of the imbalance in the dataset, only 3.46% (496 out of 14329) of the values in the 'all_nba' column are equal to 1. In this case accuracy and the BaselineModel_lr() returning always cero will not\\nbe a realiable metric beacause it is biased by imbalance of the data in y_test, in other words the probability of being correct is high since 96.54% of all values in y_test are 0.\\n\""
            ]
          },
          "execution_count": 119,
          "metadata": {},
          "output_type": "execute_result"
        }
      ],
      "source": [
        "\"\"\" \n",
        "This is the result of the imbalance in the dataset, only 3.46% (496 out of 14329) of the values in the 'all_nba' column are equal to 1. In this case accuracy and the BaselineModel_lr() returning always cero will not\n",
        "be a realiable metric beacause it is biased by imbalance of the data in y_test, in other words the probability of being correct is high since 96.54% of all values in y_test are 0.\n",
        "\"\"\""
      ]
    },
    {
      "cell_type": "markdown",
      "id": "df1a22d1-3fd1-4e6f-9139-52a3466fb1c4",
      "metadata": {
        "id": "df1a22d1-3fd1-4e6f-9139-52a3466fb1c4"
      },
      "source": [
        "2.5. Scale all numerical features in the dataset (we will keep this scaling for future modeling, so make sure to do it in place)"
      ]
    },
    {
      "cell_type": "code",
      "execution_count": 120,
      "id": "e4d2a505-f193-4b94-89c3-56cba2c4db54",
      "metadata": {
        "id": "e4d2a505-f193-4b94-89c3-56cba2c4db54"
      },
      "outputs": [],
      "source": [
        "\"\"\"Scale numerical Features\"\"\"\n",
        "std_scaler = StandardScaler()\n",
        "columns = ['games', 'gamesstarted', 'mp', 'fg_perc', '3p_perc','2p_perc', 'ft_perc', 'trb', 'ast', 'stl', 'blk', 'tov', 'pf', 'pts']\n",
        "std_scaler.fit(X_train[columns])\n",
        "X_train[columns] = std_scaler.transform(X_train[columns])\n",
        "X_test[columns] = std_scaler.transform(X_test[columns])"
      ]
    },
    {
      "cell_type": "markdown",
      "id": "0ccfd642-fd2a-4ce6-af92-901156e2a009",
      "metadata": {
        "id": "0ccfd642-fd2a-4ce6-af92-901156e2a009"
      },
      "source": [
        "2.6. Train a LogisticRegression with default parameters, use only the numerical features (omit the team information for now). This will be our baseline model. "
      ]
    },
    {
      "cell_type": "code",
      "execution_count": 121,
      "id": "6f9ffef5-6333-481e-816f-9125c95fe117",
      "metadata": {
        "id": "6f9ffef5-6333-481e-816f-9125c95fe117"
      },
      "outputs": [],
      "source": [
        "\"\"\"Train the model and predict\"\"\"\n",
        "lg_model = LogisticRegression(random_state=2611)\n",
        "lg_model.fit(X_train[columns], y_train)\n",
        "y_predicted_lr = lg_model.predict(X_test[columns])\n"
      ]
    },
    {
      "cell_type": "markdown",
      "id": "0f06758a-f2dd-4339-b170-275b428fdb4e",
      "metadata": {
        "id": "0f06758a-f2dd-4339-b170-275b428fdb4e"
      },
      "source": [
        "2.7. Evaluate our baseline model using this metrics: \n",
        "\n",
        "    - accuracy\n",
        "    - precision\n",
        "    - recall\n",
        "    - f1"
      ]
    },
    {
      "cell_type": "code",
      "execution_count": 122,
      "id": "b953324f-f7ae-4823-a801-f06d27d6eb43",
      "metadata": {
        "id": "b953324f-f7ae-4823-a801-f06d27d6eb43"
      },
      "outputs": [
        {
          "name": "stdout",
          "output_type": "stream",
          "text": [
            " Acuraccy:0.9811129848229342 , Precision:0.7571428571428571 , Recall:0.5760869565217391 , f1:0.6543209876543209 \n"
          ]
        }
      ],
      "source": [
        "\"\"\"Evaluate our basemodel\"\"\"\n",
        "acuraccy_logR = accuracy_score(y_test, y_predicted_lr)\n",
        "precision_logR = precision_score(y_test, y_predicted_lr)\n",
        "recall_logR = recall_score(y_test, y_predicted_lr) # The recall measures the model's ability to detect positive samples. The higher the recall, the more positive samples detected.\n",
        "f1_logR = f1_score(y_test, y_predicted_lr) #  F1 score can be interpreted as a harmonic mean of the precision and recall, where an F1 score reaches its best value at 1 and worst score at 0\n",
        "print(f' Acuraccy:{acuraccy_logR} , Precision:{precision_logR} , Recall:{recall_logR} , f1:{f1_logR} ')"
      ]
    },
    {
      "cell_type": "markdown",
      "id": "7a540e7b-387d-4e2b-a441-d0c5173bdbf7",
      "metadata": {
        "id": "7a540e7b-387d-4e2b-a441-d0c5173bdbf7"
      },
      "source": [
        "From now on, you'll be evaluating you model primarily using the F1 Score metric, but we also want to avoid models that have very low recall. "
      ]
    },
    {
      "cell_type": "markdown",
      "id": "2054a43f-55ec-45fc-9ead-a7699d8aa2b0",
      "metadata": {
        "id": "2054a43f-55ec-45fc-9ead-a7699d8aa2b0"
      },
      "source": [
        "### Classification"
      ]
    },
    {
      "cell_type": "markdown",
      "id": "1e2847f3-f02c-4308-8a0c-41ba79af0781",
      "metadata": {
        "id": "1e2847f3-f02c-4308-8a0c-41ba79af0781"
      },
      "source": [
        "#### Feature engineering"
      ]
    },
    {
      "cell_type": "markdown",
      "id": "27b6ddb3-576c-4238-9ec3-534aafee764b",
      "metadata": {
        "id": "27b6ddb3-576c-4238-9ec3-534aafee764b"
      },
      "source": [
        "2.8. One hot encode the Team feature. Make sure to drop the original column."
      ]
    },
    {
      "cell_type": "code",
      "execution_count": 123,
      "id": "de67e174",
      "metadata": {},
      "outputs": [],
      "source": [
        "\"\"\"Create the one hot encoded features for the team feature\"\"\"\n",
        "X_train = X_train.reset_index(drop=True)\n",
        "X_test = X_test.reset_index(drop=True)\n",
        "encoder = OneHotEncoder(sparse = False, drop='first')\n",
        "encoder.fit(X_train[['team']])\n",
        "train_X_encoded = pd.DataFrame(encoder.transform(X_train[['team']]))\n",
        "train_X_encoded.columns = encoder.get_feature_names_out()\n",
        "test_X_encoded = pd.DataFrame(encoder.transform(X_test[['team']]))\n",
        "test_X_encoded.columns = encoder.get_feature_names_out()\n",
        "X_train = X_train.join(train_X_encoded, how='left')\n",
        "X_test = X_test.join(test_X_encoded, how='left')\n",
        "X_train = X_train.drop(columns=['team'])\n",
        "X_test = X_test.drop(columns=['team'])"
      ]
    },
    {
      "cell_type": "markdown",
      "id": "6592c6c0-7ec8-49ac-936c-2d0fb84ccfef",
      "metadata": {
        "id": "6592c6c0-7ec8-49ac-936c-2d0fb84ccfef",
        "tags": []
      },
      "source": [
        "#### Modeling"
      ]
    },
    {
      "cell_type": "markdown",
      "id": "06240cb2-de21-4d4e-ae0e-0f90c3c0453a",
      "metadata": {
        "id": "06240cb2-de21-4d4e-ae0e-0f90c3c0453a"
      },
      "source": [
        "2.9. Train a logistic regresion model, find the best hyperparameters for: tols, C and max_iter. Try at least 4 values of each parameter. Remember to select based on f1 score, but report also precision and recall. Save the best performing model to use in the next steps."
      ]
    },
    {
      "cell_type": "code",
      "execution_count": 124,
      "id": "4bdc4abf-ded3-4d8b-9170-c1d5b4951ba7",
      "metadata": {
        "id": "4bdc4abf-ded3-4d8b-9170-c1d5b4951ba7"
      },
      "outputs": [],
      "source": [
        "def search_best_hyperparameters_LogisticRegression(max_iter, tols, C, dfx_train, dfy_train, dfx_test, dfy_test):\n",
        "  result_lgr= {\n",
        "    \"hyperparameters\": {\"max_iter\": None, \"tols\": None, \"C\": None}, \n",
        "    \"f1\": None, \"precision\": None, \"recall\": None\n",
        "  }\n",
        "  \"\"\"\n",
        "    A funtion that looks for the best hyperparameters of an LogisticRegression out of a given range\n",
        "    of values\n",
        "  \"\"\"\n",
        "  \"\"\"\n",
        "    Parameters\n",
        "    ----------\n",
        "    max_iter: Maximum number of iterations taken for the solvers to converge, default=100 .\n",
        "    tols: Tolerance for stopping criteria, default=1e-4 .\n",
        "    C: Inverse of regularization strength; must be a positive float. Like in support vector machines, smaller values specify stronger regularization, default=1.0 .\n",
        "    dfx_train: X_train dataframe of the splitted X dataframe (features)\n",
        "    dfx_test: X_test dataframe of the splitted X dataframe (features)\n",
        "    dfy_train: y_train dataframe of the splitted y dataframe (labels)\n",
        "    dfy_train: y_test dataframe of the splitted y dataframe (labels)\n",
        "    \"\"\"\n",
        "  # Complete your code here\n",
        "  f1_list = []\n",
        "  for iter in max_iter:\n",
        "    for c in C:\n",
        "      for t in tols:\n",
        "        lr_model = LogisticRegression(max_iter= iter, tol=t, C=c, random_state=2611)\n",
        "        lr_model.fit(dfx_train, dfy_train)\n",
        "        y_predicted_lgr = lr_model.predict(dfx_test)\n",
        "        precision_lr = precision_score(dfy_test, y_predicted_lgr)\n",
        "        recall_lr = recall_score(dfy_test, y_predicted_lgr)\n",
        "        f1_lr = f1_score(dfy_test, y_predicted_lgr)\n",
        "        f1_list.append(f1_lr)\n",
        "        if f1_lr == min(f1_list):\n",
        "          result_lgr['hyperparameters']['max_iter'] = iter\n",
        "          result_lgr['hyperparameters']['tols'] = t\n",
        "          result_lgr['hyperparameters']['C'] = c\n",
        "          result_lgr['f1'] = f1_lr\n",
        "          result_lgr['precision'] = precision_lr\n",
        "          result_lgr['recall'] = recall_lr\n",
        "  \"\"\"\"\n",
        "  Returns\n",
        "    -------\n",
        "    dictionary\n",
        "        a dictionary with the  best combination of hyperparameters out of the given lists of values for each parameter.\n",
        "    \"\"\"\n",
        "  return result_lgr"
      ]
    },
    {
      "cell_type": "code",
      "execution_count": 125,
      "id": "3906463b",
      "metadata": {},
      "outputs": [
        {
          "name": "stdout",
          "output_type": "stream",
          "text": [
            "{'hyperparameters': {'max_iter': 1000000, 'tols': 0.0012, 'C': 3}, 'f1': 0.6708074534161491, 'precision': 0.782608695652174, 'recall': 0.5869565217391305}\n"
          ]
        }
      ],
      "source": [
        "# List of hyperparameter example values\n",
        "max_iter = [1000, 10000, 100000, 1000000]\n",
        "tols = [0.0006, 0.0008, 0.0010, 0.0012]\n",
        "C = [0.5, 1, 2, 3]  \n",
        "result_lgr = search_best_hyperparameters_LogisticRegression(max_iter, tols, C, X_train, y_train, X_test, y_test)\n",
        "print(result_lgr)"
      ]
    },
    {
      "cell_type": "code",
      "execution_count": 126,
      "id": "b33b746d",
      "metadata": {},
      "outputs": [
        {
          "data": {
            "text/html": [
              "<style>#sk-container-id-2 {color: black;background-color: white;}#sk-container-id-2 pre{padding: 0;}#sk-container-id-2 div.sk-toggleable {background-color: white;}#sk-container-id-2 label.sk-toggleable__label {cursor: pointer;display: block;width: 100%;margin-bottom: 0;padding: 0.3em;box-sizing: border-box;text-align: center;}#sk-container-id-2 label.sk-toggleable__label-arrow:before {content: \"▸\";float: left;margin-right: 0.25em;color: #696969;}#sk-container-id-2 label.sk-toggleable__label-arrow:hover:before {color: black;}#sk-container-id-2 div.sk-estimator:hover label.sk-toggleable__label-arrow:before {color: black;}#sk-container-id-2 div.sk-toggleable__content {max-height: 0;max-width: 0;overflow: hidden;text-align: left;background-color: #f0f8ff;}#sk-container-id-2 div.sk-toggleable__content pre {margin: 0.2em;color: black;border-radius: 0.25em;background-color: #f0f8ff;}#sk-container-id-2 input.sk-toggleable__control:checked~div.sk-toggleable__content {max-height: 200px;max-width: 100%;overflow: auto;}#sk-container-id-2 input.sk-toggleable__control:checked~label.sk-toggleable__label-arrow:before {content: \"▾\";}#sk-container-id-2 div.sk-estimator input.sk-toggleable__control:checked~label.sk-toggleable__label {background-color: #d4ebff;}#sk-container-id-2 div.sk-label input.sk-toggleable__control:checked~label.sk-toggleable__label {background-color: #d4ebff;}#sk-container-id-2 input.sk-hidden--visually {border: 0;clip: rect(1px 1px 1px 1px);clip: rect(1px, 1px, 1px, 1px);height: 1px;margin: -1px;overflow: hidden;padding: 0;position: absolute;width: 1px;}#sk-container-id-2 div.sk-estimator {font-family: monospace;background-color: #f0f8ff;border: 1px dotted black;border-radius: 0.25em;box-sizing: border-box;margin-bottom: 0.5em;}#sk-container-id-2 div.sk-estimator:hover {background-color: #d4ebff;}#sk-container-id-2 div.sk-parallel-item::after {content: \"\";width: 100%;border-bottom: 1px solid gray;flex-grow: 1;}#sk-container-id-2 div.sk-label:hover label.sk-toggleable__label {background-color: #d4ebff;}#sk-container-id-2 div.sk-serial::before {content: \"\";position: absolute;border-left: 1px solid gray;box-sizing: border-box;top: 0;bottom: 0;left: 50%;z-index: 0;}#sk-container-id-2 div.sk-serial {display: flex;flex-direction: column;align-items: center;background-color: white;padding-right: 0.2em;padding-left: 0.2em;position: relative;}#sk-container-id-2 div.sk-item {position: relative;z-index: 1;}#sk-container-id-2 div.sk-parallel {display: flex;align-items: stretch;justify-content: center;background-color: white;position: relative;}#sk-container-id-2 div.sk-item::before, #sk-container-id-2 div.sk-parallel-item::before {content: \"\";position: absolute;border-left: 1px solid gray;box-sizing: border-box;top: 0;bottom: 0;left: 50%;z-index: -1;}#sk-container-id-2 div.sk-parallel-item {display: flex;flex-direction: column;z-index: 1;position: relative;background-color: white;}#sk-container-id-2 div.sk-parallel-item:first-child::after {align-self: flex-end;width: 50%;}#sk-container-id-2 div.sk-parallel-item:last-child::after {align-self: flex-start;width: 50%;}#sk-container-id-2 div.sk-parallel-item:only-child::after {width: 0;}#sk-container-id-2 div.sk-dashed-wrapped {border: 1px dashed gray;margin: 0 0.4em 0.5em 0.4em;box-sizing: border-box;padding-bottom: 0.4em;background-color: white;}#sk-container-id-2 div.sk-label label {font-family: monospace;font-weight: bold;display: inline-block;line-height: 1.2em;}#sk-container-id-2 div.sk-label-container {text-align: center;}#sk-container-id-2 div.sk-container {/* jupyter's `normalize.less` sets `[hidden] { display: none; }` but bootstrap.min.css set `[hidden] { display: none !important; }` so we also need the `!important` here to be able to override the default hidden behavior on the sphinx rendered scikit-learn.org. See: https://github.com/scikit-learn/scikit-learn/issues/21755 */display: inline-block !important;position: relative;}#sk-container-id-2 div.sk-text-repr-fallback {display: none;}</style><div id=\"sk-container-id-2\" class=\"sk-top-container\"><div class=\"sk-text-repr-fallback\"><pre>LogisticRegression(C=3, max_iter=1000000, random_state=2611, tol=0.0012)</pre><b>In a Jupyter environment, please rerun this cell to show the HTML representation or trust the notebook. <br />On GitHub, the HTML representation is unable to render, please try loading this page with nbviewer.org.</b></div><div class=\"sk-container\" hidden><div class=\"sk-item\"><div class=\"sk-estimator sk-toggleable\"><input class=\"sk-toggleable__control sk-hidden--visually\" id=\"sk-estimator-id-2\" type=\"checkbox\" checked><label for=\"sk-estimator-id-2\" class=\"sk-toggleable__label sk-toggleable__label-arrow\">LogisticRegression</label><div class=\"sk-toggleable__content\"><pre>LogisticRegression(C=3, max_iter=1000000, random_state=2611, tol=0.0012)</pre></div></div></div></div></div>"
            ],
            "text/plain": [
              "LogisticRegression(C=3, max_iter=1000000, random_state=2611, tol=0.0012)"
            ]
          },
          "execution_count": 126,
          "metadata": {},
          "output_type": "execute_result"
        }
      ],
      "source": [
        "lg_model = LogisticRegression(max_iter= result_lgr['hyperparameters']['max_iter'] , tol=result_lgr['hyperparameters']['tols'], C=result_lgr['hyperparameters']['C'], random_state=2611)\n",
        "lg_model.fit(X_train, y_train)"
      ]
    },
    {
      "cell_type": "markdown",
      "id": "45c0c3bd-b431-40f1-abbb-4e90b7479411",
      "metadata": {
        "id": "45c0c3bd-b431-40f1-abbb-4e90b7479411"
      },
      "source": [
        "#### Evaluating on New Data"
      ]
    },
    {
      "cell_type": "markdown",
      "id": "3a5352ce-df8a-4c9d-b583-65255774f9d9",
      "metadata": {
        "id": "3a5352ce-df8a-4c9d-b583-65255774f9d9"
      },
      "source": [
        "You're now going to evaluate the results on a test dataset that has not being used to train or do hyperparameter tuning, this is sometimes known as a Test set (in this cases the test set used for training is known as validation set, yeah, it's confusing, but you can read about it [here](https://machinelearningmastery.com/difference-test-validation-datasets/))"
      ]
    },
    {
      "cell_type": "markdown",
      "id": "9da9e93b-6265-44e4-89be-75e7178800e2",
      "metadata": {
        "id": "9da9e93b-6265-44e4-89be-75e7178800e2"
      },
      "source": [
        "2.10. Load the dataset [all_nba_2018_dataset.csv](https://raw.githubusercontent.com/anyoneai/notebooks/main/datasets/all_nba_2018_dataset.csv) in one dataframe and [all_nba_2018_selections.csv](https://raw.githubusercontent.com/anyoneai/notebooks/main/datasets/all_nba_2018_selections.csv)) in another, then:\n",
        "\n",
        "    - Scale the numerical features. Columns season_id, player_id, player_season, player, season and season_start will not be used for prediction, you can keep them but remember not to pass them to the classifier.\n",
        "    \n",
        "    - Create the one hot encoded features for team. This step will be complex, as you will have to consider that in the 2018 season there are 30 teams, but the previous dataset contains 40 teams, that is because a lot of teams changed names or cities over the years. You need to add those 10 different team names in this dataset (with all values in 0) to make the classifier work."
      ]
    },
    {
      "cell_type": "code",
      "execution_count": 127,
      "id": "79ea153a-b061-4df9-9c3d-1aaa0526c700",
      "metadata": {
        "id": "79ea153a-b061-4df9-9c3d-1aaa0526c700"
      },
      "outputs": [],
      "source": [
        "all_nba_2018_df = pd.read_csv(\"https://raw.githubusercontent.com/anyoneai/notebooks/main/datasets/all_nba_2018_dataset.csv\", index_col=0)\n",
        "all_nba_2018_selections = pd.read_csv(\"https://raw.githubusercontent.com/anyoneai/notebooks/main/datasets/all_nba_2018_selections.csv\", index_col=0)"
      ]
    },
    {
      "cell_type": "code",
      "execution_count": 128,
      "id": "-1VYrr5IV8TH",
      "metadata": {
        "id": "-1VYrr5IV8TH"
      },
      "outputs": [],
      "source": [
        "\"\"\" Save the data to my local machine \"\"\"\n",
        "all_nba_2018_df.to_csv('all_nba_2018_dataset.csv', index=False)\n",
        "all_nba_2018_selections.to_csv('all_nba_2018_selections.csv', index=False)"
      ]
    },
    {
      "cell_type": "code",
      "execution_count": 129,
      "id": "19252bf0",
      "metadata": {},
      "outputs": [],
      "source": [
        "\"\"\" Reading the data from my local machine \"\"\"\n",
        "all_nba_2018_df = pd.read_csv('all_nba_2018_dataset.csv')\n",
        "all_nba_2018_selections = pd.read_csv('all_nba_2018_selections.csv')\n",
        "player_name = pd.read_csv('all_nba_2018_dataset.csv', usecols=['player'])\n",
        "\n",
        "\"\"\"1- Scale numerical Features\"\"\"\n",
        "all_nba_2018_df[columns] = std_scaler.transform(all_nba_2018_df[columns])\n",
        "\n",
        "\"\"\"2- Create the one hot encoded features for team\"\"\"\n",
        "all_nba_2018_team_encoded = pd.DataFrame(encoder.transform(all_nba_2018_df[['team']]))\n",
        "all_nba_2018_team_encoded.columns = encoder.get_feature_names_out()\n",
        "all_nba_2018_df = all_nba_2018_df.join(all_nba_2018_team_encoded, how='left')\n",
        "all_nba_2018_df = all_nba_2018_df.drop(columns=['team', 'season_id', 'player_id', 'player_season', 'player', 'season','season_start', ])\n",
        "all_nba_2018_selections = all_nba_2018_selections.drop(columns=['player_id' ])"
      ]
    },
    {
      "cell_type": "markdown",
      "id": "aeBb8Zha2FAQ",
      "metadata": {
        "id": "aeBb8Zha2FAQ"
      },
      "source": [
        "*Don't change anything in this cell, just make it run correctly*"
      ]
    },
    {
      "cell_type": "code",
      "execution_count": 130,
      "id": "Y7fgqGQL2F5R",
      "metadata": {
        "id": "Y7fgqGQL2F5R"
      },
      "outputs": [
        {
          "name": "stdout",
          "output_type": "stream",
          "text": [
            "Success!\n"
          ]
        }
      ],
      "source": [
        "if all_nba_2018_df.shape == (530, 54):\n",
        "  print('Success!')\n",
        "else:\n",
        "  raise ValueError('The shape is incorrect, please review your function')"
      ]
    },
    {
      "cell_type": "markdown",
      "id": "8b0bb296-b1b3-4ae4-b199-b11224c78a82",
      "metadata": {
        "id": "8b0bb296-b1b3-4ae4-b199-b11224c78a82"
      },
      "source": [
        "2.11. Predict and evaluate the model using precision, recall and f1 score. "
      ]
    },
    {
      "cell_type": "code",
      "execution_count": 131,
      "id": "b00ddffa-3f09-4294-beb5-098c2d698af0",
      "metadata": {
        "id": "b00ddffa-3f09-4294-beb5-098c2d698af0"
      },
      "outputs": [
        {
          "name": "stdout",
          "output_type": "stream",
          "text": [
            "Precision:0.6 , Recall:1.0 , f1:0.7499999999999999 \n"
          ]
        }
      ],
      "source": [
        "\"\"\"3- Model`s metrics and predictions\"\"\"\n",
        "y_predicted_all_nba_2018 = lg_model.predict(all_nba_2018_df)\n",
        "precision_all_nba_2018 = precision_score(all_nba_2018_selections['all_nba'], y_predicted_all_nba_2018)\n",
        "recall_all_nba_2018 = recall_score(all_nba_2018_selections['all_nba'], y_predicted_all_nba_2018)\n",
        "f1_all_nba_2018 = f1_score(all_nba_2018_selections['all_nba'], y_predicted_all_nba_2018) \n",
        "print(f'Precision:{precision_all_nba_2018} , Recall:{recall_all_nba_2018} , f1:{f1_all_nba_2018} ')"
      ]
    },
    {
      "cell_type": "markdown",
      "id": "be98174e-4d1b-407d-8ecc-dd568f6e5368",
      "metadata": {
        "id": "be98174e-4d1b-407d-8ecc-dd568f6e5368"
      },
      "source": [
        "2.12. Analyze the results, what do you think it is happening?"
      ]
    },
    {
      "cell_type": "code",
      "execution_count": 132,
      "id": "17f87aa8-dd84-462a-b26b-80400e4a87e3",
      "metadata": {
        "id": "17f87aa8-dd84-462a-b26b-80400e4a87e3"
      },
      "outputs": [
        {
          "data": {
            "text/plain": [
              "'\\nApplying one hot encoding to the team feature and finding the best hyperparameters for the logistic regression model greatly increased the ability of the model to make predictions.\\nThe recall metric tells us that the model correctly classified 100% of the positive samples, in terms of accuracy the model’s trustiness when it says that a sample is positive is 60%, \\nwe can also see how f1 improves meaning that we have lower numbers of false positives.\\n\\n'"
            ]
          },
          "execution_count": 132,
          "metadata": {},
          "output_type": "execute_result"
        }
      ],
      "source": [
        "\"\"\"\n",
        "Applying one hot encoding to the team feature and finding the best hyperparameters for the logistic regression model greatly increased the ability of the model to make predictions.\n",
        "The recall metric tells us that the model correctly classified 100% of the positive samples, in terms of accuracy the model’s trustiness when it says that a sample is positive is 60%, \n",
        "we can also see how f1 improves meaning that we have lower numbers of false positives.\n",
        "\n",
        "\"\"\""
      ]
    },
    {
      "cell_type": "markdown",
      "id": "77a8c607-5df7-43d2-8365-cbbb6f2b93e1",
      "metadata": {
        "id": "77a8c607-5df7-43d2-8365-cbbb6f2b93e1"
      },
      "source": [
        "#### Creating our custom Classifier"
      ]
    },
    {
      "cell_type": "markdown",
      "id": "21dc0d0a-1d15-4f9e-b3ed-f83df1f51ce0",
      "metadata": {
        "id": "21dc0d0a-1d15-4f9e-b3ed-f83df1f51ce0"
      },
      "source": [
        "One thing to consider in this problem, is that the number of ALl NBA selections is fixed each year, a total of 15 players are always selected. But our current model does not limit the number of positive classified players. So, we will have to wrap our model in a custom classifier that only returns as positive the 15 players with the higher probabilities. \n",
        "Fortunately, our chosen model provides access to the underlying probabilities."
      ]
    },
    {
      "cell_type": "markdown",
      "id": "e22326d3-c1ae-475b-9b31-7b02876f8bbc",
      "metadata": {
        "id": "e22326d3-c1ae-475b-9b31-7b02876f8bbc"
      },
      "source": [
        "2.13. Using the trained model, predict probabilities for all rows in the dataset, and create a new column that has the probability that the player was selected as all nba. Round the probability to 3 decimals."
      ]
    },
    {
      "cell_type": "code",
      "execution_count": 133,
      "id": "46aab01a",
      "metadata": {},
      "outputs": [],
      "source": [
        "\"\"\"4- Adds a new column of the probability that the player was selected, then sorts the dataframe by probability and rounds it\"\"\"\n",
        "probability = lg_model.predict_proba(all_nba_2018_df)[:,1]\n",
        "all_nba_2018_df.insert(1, 'probability_going_all_nba', probability.round(3) * 100)\n",
        "all_nba_2018_df.insert(0, 'player', player_name)"
      ]
    },
    {
      "cell_type": "markdown",
      "id": "c1e5edbf-faee-4773-a114-eed5eab89242",
      "metadata": {
        "id": "c1e5edbf-faee-4773-a114-eed5eab89242"
      },
      "source": [
        "2.14. Sort the dataset by probabilities and show the 15 players with higher probability to have been selected"
      ]
    },
    {
      "cell_type": "code",
      "execution_count": 134,
      "id": "42562785-2d0d-4e11-a31f-3eca3f78c818",
      "metadata": {
        "id": "42562785-2d0d-4e11-a31f-3eca3f78c818"
      },
      "outputs": [
        {
          "data": {
            "text/html": [
              "<div>\n",
              "<style scoped>\n",
              "    .dataframe tbody tr th:only-of-type {\n",
              "        vertical-align: middle;\n",
              "    }\n",
              "\n",
              "    .dataframe tbody tr th {\n",
              "        vertical-align: top;\n",
              "    }\n",
              "\n",
              "    .dataframe thead th {\n",
              "        text-align: right;\n",
              "    }\n",
              "</style>\n",
              "<table border=\"1\" class=\"dataframe\">\n",
              "  <thead>\n",
              "    <tr style=\"text-align: right;\">\n",
              "      <th></th>\n",
              "      <th>player</th>\n",
              "      <th>games</th>\n",
              "      <th>probability_going_all_nba</th>\n",
              "      <th>gamesstarted</th>\n",
              "      <th>mp</th>\n",
              "      <th>fg_perc</th>\n",
              "      <th>3p_perc</th>\n",
              "      <th>2p_perc</th>\n",
              "      <th>ft_perc</th>\n",
              "      <th>trb</th>\n",
              "      <th>...</th>\n",
              "      <th>team_SAC</th>\n",
              "      <th>team_SAS</th>\n",
              "      <th>team_SDC</th>\n",
              "      <th>team_SEA</th>\n",
              "      <th>team_TOR</th>\n",
              "      <th>team_TOT</th>\n",
              "      <th>team_UTA</th>\n",
              "      <th>team_VAN</th>\n",
              "      <th>team_WAS</th>\n",
              "      <th>team_WSB</th>\n",
              "    </tr>\n",
              "  </thead>\n",
              "  <tbody>\n",
              "    <tr>\n",
              "      <th>17</th>\n",
              "      <td>Giannis Antetokounmpo</td>\n",
              "      <td>0.702826</td>\n",
              "      <td>100.0</td>\n",
              "      <td>1.551492</td>\n",
              "      <td>1.207905</td>\n",
              "      <td>1.475163</td>\n",
              "      <td>0.226240</td>\n",
              "      <td>1.837156</td>\n",
              "      <td>0.150585</td>\n",
              "      <td>3.465540</td>\n",
              "      <td>...</td>\n",
              "      <td>0.0</td>\n",
              "      <td>0.0</td>\n",
              "      <td>0.0</td>\n",
              "      <td>0.0</td>\n",
              "      <td>0.0</td>\n",
              "      <td>0.0</td>\n",
              "      <td>0.0</td>\n",
              "      <td>0.0</td>\n",
              "      <td>0.0</td>\n",
              "      <td>0.0</td>\n",
              "    </tr>\n",
              "    <tr>\n",
              "      <th>205</th>\n",
              "      <td>James Harden</td>\n",
              "      <td>0.941208</td>\n",
              "      <td>99.9</td>\n",
              "      <td>1.754451</td>\n",
              "      <td>1.597478</td>\n",
              "      <td>0.028461</td>\n",
              "      <td>0.835354</td>\n",
              "      <td>0.696664</td>\n",
              "      <td>0.960238</td>\n",
              "      <td>1.172344</td>\n",
              "      <td>...</td>\n",
              "      <td>0.0</td>\n",
              "      <td>0.0</td>\n",
              "      <td>0.0</td>\n",
              "      <td>0.0</td>\n",
              "      <td>0.0</td>\n",
              "      <td>0.0</td>\n",
              "      <td>0.0</td>\n",
              "      <td>0.0</td>\n",
              "      <td>0.0</td>\n",
              "      <td>0.0</td>\n",
              "    </tr>\n",
              "    <tr>\n",
              "      <th>257</th>\n",
              "      <td>LeBron James</td>\n",
              "      <td>0.027413</td>\n",
              "      <td>99.8</td>\n",
              "      <td>0.976442</td>\n",
              "      <td>1.441649</td>\n",
              "      <td>0.751812</td>\n",
              "      <td>0.677637</td>\n",
              "      <td>1.241678</td>\n",
              "      <td>-0.194867</td>\n",
              "      <td>1.910831</td>\n",
              "      <td>...</td>\n",
              "      <td>0.0</td>\n",
              "      <td>0.0</td>\n",
              "      <td>0.0</td>\n",
              "      <td>0.0</td>\n",
              "      <td>0.0</td>\n",
              "      <td>0.0</td>\n",
              "      <td>0.0</td>\n",
              "      <td>0.0</td>\n",
              "      <td>0.0</td>\n",
              "      <td>0.0</td>\n",
              "    </tr>\n",
              "    <tr>\n",
              "      <th>505</th>\n",
              "      <td>Russell Westbrook</td>\n",
              "      <td>0.742557</td>\n",
              "      <td>98.6</td>\n",
              "      <td>1.585318</td>\n",
              "      <td>1.519563</td>\n",
              "      <td>-0.120464</td>\n",
              "      <td>0.411150</td>\n",
              "      <td>0.222300</td>\n",
              "      <td>-0.243447</td>\n",
              "      <td>2.921392</td>\n",
              "      <td>...</td>\n",
              "      <td>0.0</td>\n",
              "      <td>0.0</td>\n",
              "      <td>0.0</td>\n",
              "      <td>0.0</td>\n",
              "      <td>0.0</td>\n",
              "      <td>0.0</td>\n",
              "      <td>0.0</td>\n",
              "      <td>0.0</td>\n",
              "      <td>0.0</td>\n",
              "      <td>0.0</td>\n",
              "    </tr>\n",
              "    <tr>\n",
              "      <th>149</th>\n",
              "      <td>Kevin Durant</td>\n",
              "      <td>0.941208</td>\n",
              "      <td>98.2</td>\n",
              "      <td>1.754451</td>\n",
              "      <td>1.383213</td>\n",
              "      <td>0.868825</td>\n",
              "      <td>0.753776</td>\n",
              "      <td>1.292142</td>\n",
              "      <td>0.992624</td>\n",
              "      <td>1.094608</td>\n",
              "      <td>...</td>\n",
              "      <td>0.0</td>\n",
              "      <td>0.0</td>\n",
              "      <td>0.0</td>\n",
              "      <td>0.0</td>\n",
              "      <td>0.0</td>\n",
              "      <td>0.0</td>\n",
              "      <td>0.0</td>\n",
              "      <td>0.0</td>\n",
              "      <td>0.0</td>\n",
              "      <td>0.0</td>\n",
              "    </tr>\n",
              "    <tr>\n",
              "      <th>154</th>\n",
              "      <td>Joel Embiid</td>\n",
              "      <td>0.384985</td>\n",
              "      <td>98.1</td>\n",
              "      <td>1.280880</td>\n",
              "      <td>1.295559</td>\n",
              "      <td>0.475237</td>\n",
              "      <td>0.465535</td>\n",
              "      <td>0.767314</td>\n",
              "      <td>0.555411</td>\n",
              "      <td>3.893085</td>\n",
              "      <td>...</td>\n",
              "      <td>0.0</td>\n",
              "      <td>0.0</td>\n",
              "      <td>0.0</td>\n",
              "      <td>0.0</td>\n",
              "      <td>0.0</td>\n",
              "      <td>0.0</td>\n",
              "      <td>0.0</td>\n",
              "      <td>0.0</td>\n",
              "      <td>0.0</td>\n",
              "      <td>0.0</td>\n",
              "    </tr>\n",
              "    <tr>\n",
              "      <th>491</th>\n",
              "      <td>Nikola Vucevic</td>\n",
              "      <td>1.020668</td>\n",
              "      <td>97.2</td>\n",
              "      <td>1.822104</td>\n",
              "      <td>1.071554</td>\n",
              "      <td>0.836912</td>\n",
              "      <td>0.813600</td>\n",
              "      <td>0.908613</td>\n",
              "      <td>0.474446</td>\n",
              "      <td>3.271202</td>\n",
              "      <td>...</td>\n",
              "      <td>0.0</td>\n",
              "      <td>0.0</td>\n",
              "      <td>0.0</td>\n",
              "      <td>0.0</td>\n",
              "      <td>0.0</td>\n",
              "      <td>0.0</td>\n",
              "      <td>0.0</td>\n",
              "      <td>0.0</td>\n",
              "      <td>0.0</td>\n",
              "      <td>0.0</td>\n",
              "    </tr>\n",
              "    <tr>\n",
              "      <th>182</th>\n",
              "      <td>Paul George</td>\n",
              "      <td>0.901478</td>\n",
              "      <td>96.3</td>\n",
              "      <td>1.720624</td>\n",
              "      <td>1.607217</td>\n",
              "      <td>-0.014089</td>\n",
              "      <td>0.933247</td>\n",
              "      <td>0.252578</td>\n",
              "      <td>0.744330</td>\n",
              "      <td>1.794228</td>\n",
              "      <td>...</td>\n",
              "      <td>0.0</td>\n",
              "      <td>0.0</td>\n",
              "      <td>0.0</td>\n",
              "      <td>0.0</td>\n",
              "      <td>0.0</td>\n",
              "      <td>0.0</td>\n",
              "      <td>0.0</td>\n",
              "      <td>0.0</td>\n",
              "      <td>0.0</td>\n",
              "      <td>0.0</td>\n",
              "    </tr>\n",
              "    <tr>\n",
              "      <th>125</th>\n",
              "      <td>Anthony Davis</td>\n",
              "      <td>0.067143</td>\n",
              "      <td>96.1</td>\n",
              "      <td>1.010268</td>\n",
              "      <td>1.227383</td>\n",
              "      <td>0.826275</td>\n",
              "      <td>0.634129</td>\n",
              "      <td>0.888428</td>\n",
              "      <td>0.501434</td>\n",
              "      <td>3.271202</td>\n",
              "      <td>...</td>\n",
              "      <td>0.0</td>\n",
              "      <td>0.0</td>\n",
              "      <td>0.0</td>\n",
              "      <td>0.0</td>\n",
              "      <td>0.0</td>\n",
              "      <td>0.0</td>\n",
              "      <td>0.0</td>\n",
              "      <td>0.0</td>\n",
              "      <td>0.0</td>\n",
              "      <td>0.0</td>\n",
              "    </tr>\n",
              "    <tr>\n",
              "      <th>300</th>\n",
              "      <td>Kawhi Leonard</td>\n",
              "      <td>0.226064</td>\n",
              "      <td>93.3</td>\n",
              "      <td>1.145574</td>\n",
              "      <td>1.324777</td>\n",
              "      <td>0.602887</td>\n",
              "      <td>0.851669</td>\n",
              "      <td>0.837964</td>\n",
              "      <td>0.825295</td>\n",
              "      <td>1.444418</td>\n",
              "      <td>...</td>\n",
              "      <td>0.0</td>\n",
              "      <td>0.0</td>\n",
              "      <td>0.0</td>\n",
              "      <td>0.0</td>\n",
              "      <td>1.0</td>\n",
              "      <td>0.0</td>\n",
              "      <td>0.0</td>\n",
              "      <td>0.0</td>\n",
              "      <td>0.0</td>\n",
              "      <td>0.0</td>\n",
              "    </tr>\n",
              "    <tr>\n",
              "      <th>7</th>\n",
              "      <td>LaMarcus Aldridge</td>\n",
              "      <td>1.060398</td>\n",
              "      <td>91.5</td>\n",
              "      <td>1.855930</td>\n",
              "      <td>1.246862</td>\n",
              "      <td>0.847550</td>\n",
              "      <td>0.128347</td>\n",
              "      <td>0.696664</td>\n",
              "      <td>0.787512</td>\n",
              "      <td>2.182905</td>\n",
              "      <td>...</td>\n",
              "      <td>0.0</td>\n",
              "      <td>1.0</td>\n",
              "      <td>0.0</td>\n",
              "      <td>0.0</td>\n",
              "      <td>0.0</td>\n",
              "      <td>0.0</td>\n",
              "      <td>0.0</td>\n",
              "      <td>0.0</td>\n",
              "      <td>0.0</td>\n",
              "      <td>0.0</td>\n",
              "    </tr>\n",
              "    <tr>\n",
              "      <th>186</th>\n",
              "      <td>Rudy Gobert</td>\n",
              "      <td>1.060398</td>\n",
              "      <td>88.7</td>\n",
              "      <td>1.822104</td>\n",
              "      <td>1.110511</td>\n",
              "      <td>2.443177</td>\n",
              "      <td>-1.166019</td>\n",
              "      <td>2.119755</td>\n",
              "      <td>-0.351400</td>\n",
              "      <td>3.621011</td>\n",
              "      <td>...</td>\n",
              "      <td>0.0</td>\n",
              "      <td>0.0</td>\n",
              "      <td>0.0</td>\n",
              "      <td>0.0</td>\n",
              "      <td>0.0</td>\n",
              "      <td>0.0</td>\n",
              "      <td>1.0</td>\n",
              "      <td>0.0</td>\n",
              "      <td>0.0</td>\n",
              "      <td>0.0</td>\n",
              "    </tr>\n",
              "    <tr>\n",
              "      <th>201</th>\n",
              "      <td>Blake Griffin</td>\n",
              "      <td>0.822017</td>\n",
              "      <td>86.8</td>\n",
              "      <td>1.652971</td>\n",
              "      <td>1.422170</td>\n",
              "      <td>0.241211</td>\n",
              "      <td>0.802723</td>\n",
              "      <td>0.666385</td>\n",
              "      <td>0.280129</td>\n",
              "      <td>1.522154</td>\n",
              "      <td>...</td>\n",
              "      <td>0.0</td>\n",
              "      <td>0.0</td>\n",
              "      <td>0.0</td>\n",
              "      <td>0.0</td>\n",
              "      <td>0.0</td>\n",
              "      <td>0.0</td>\n",
              "      <td>0.0</td>\n",
              "      <td>0.0</td>\n",
              "      <td>0.0</td>\n",
              "      <td>0.0</td>\n",
              "    </tr>\n",
              "    <tr>\n",
              "      <th>123</th>\n",
              "      <td>Stephen Curry</td>\n",
              "      <td>0.583636</td>\n",
              "      <td>85.5</td>\n",
              "      <td>1.450013</td>\n",
              "      <td>1.305298</td>\n",
              "      <td>0.347587</td>\n",
              "      <td>1.210611</td>\n",
              "      <td>0.666385</td>\n",
              "      <td>1.159952</td>\n",
              "      <td>0.667063</td>\n",
              "      <td>...</td>\n",
              "      <td>0.0</td>\n",
              "      <td>0.0</td>\n",
              "      <td>0.0</td>\n",
              "      <td>0.0</td>\n",
              "      <td>0.0</td>\n",
              "      <td>0.0</td>\n",
              "      <td>0.0</td>\n",
              "      <td>0.0</td>\n",
              "      <td>0.0</td>\n",
              "      <td>0.0</td>\n",
              "    </tr>\n",
              "    <tr>\n",
              "      <th>304</th>\n",
              "      <td>Damian Lillard</td>\n",
              "      <td>1.020668</td>\n",
              "      <td>83.7</td>\n",
              "      <td>1.822104</td>\n",
              "      <td>1.470867</td>\n",
              "      <td>0.049736</td>\n",
              "      <td>0.840792</td>\n",
              "      <td>0.403971</td>\n",
              "      <td>1.138361</td>\n",
              "      <td>0.394989</td>\n",
              "      <td>...</td>\n",
              "      <td>0.0</td>\n",
              "      <td>0.0</td>\n",
              "      <td>0.0</td>\n",
              "      <td>0.0</td>\n",
              "      <td>0.0</td>\n",
              "      <td>0.0</td>\n",
              "      <td>0.0</td>\n",
              "      <td>0.0</td>\n",
              "      <td>0.0</td>\n",
              "      <td>0.0</td>\n",
              "    </tr>\n",
              "  </tbody>\n",
              "</table>\n",
              "<p>15 rows × 56 columns</p>\n",
              "</div>"
            ],
            "text/plain": [
              "                    player     games  probability_going_all_nba  gamesstarted  \\\n",
              "17   Giannis Antetokounmpo  0.702826                      100.0      1.551492   \n",
              "205           James Harden  0.941208                       99.9      1.754451   \n",
              "257           LeBron James  0.027413                       99.8      0.976442   \n",
              "505      Russell Westbrook  0.742557                       98.6      1.585318   \n",
              "149           Kevin Durant  0.941208                       98.2      1.754451   \n",
              "154            Joel Embiid  0.384985                       98.1      1.280880   \n",
              "491         Nikola Vucevic  1.020668                       97.2      1.822104   \n",
              "182            Paul George  0.901478                       96.3      1.720624   \n",
              "125          Anthony Davis  0.067143                       96.1      1.010268   \n",
              "300          Kawhi Leonard  0.226064                       93.3      1.145574   \n",
              "7        LaMarcus Aldridge  1.060398                       91.5      1.855930   \n",
              "186            Rudy Gobert  1.060398                       88.7      1.822104   \n",
              "201          Blake Griffin  0.822017                       86.8      1.652971   \n",
              "123          Stephen Curry  0.583636                       85.5      1.450013   \n",
              "304         Damian Lillard  1.020668                       83.7      1.822104   \n",
              "\n",
              "           mp   fg_perc   3p_perc   2p_perc   ft_perc       trb  ...  \\\n",
              "17   1.207905  1.475163  0.226240  1.837156  0.150585  3.465540  ...   \n",
              "205  1.597478  0.028461  0.835354  0.696664  0.960238  1.172344  ...   \n",
              "257  1.441649  0.751812  0.677637  1.241678 -0.194867  1.910831  ...   \n",
              "505  1.519563 -0.120464  0.411150  0.222300 -0.243447  2.921392  ...   \n",
              "149  1.383213  0.868825  0.753776  1.292142  0.992624  1.094608  ...   \n",
              "154  1.295559  0.475237  0.465535  0.767314  0.555411  3.893085  ...   \n",
              "491  1.071554  0.836912  0.813600  0.908613  0.474446  3.271202  ...   \n",
              "182  1.607217 -0.014089  0.933247  0.252578  0.744330  1.794228  ...   \n",
              "125  1.227383  0.826275  0.634129  0.888428  0.501434  3.271202  ...   \n",
              "300  1.324777  0.602887  0.851669  0.837964  0.825295  1.444418  ...   \n",
              "7    1.246862  0.847550  0.128347  0.696664  0.787512  2.182905  ...   \n",
              "186  1.110511  2.443177 -1.166019  2.119755 -0.351400  3.621011  ...   \n",
              "201  1.422170  0.241211  0.802723  0.666385  0.280129  1.522154  ...   \n",
              "123  1.305298  0.347587  1.210611  0.666385  1.159952  0.667063  ...   \n",
              "304  1.470867  0.049736  0.840792  0.403971  1.138361  0.394989  ...   \n",
              "\n",
              "     team_SAC  team_SAS  team_SDC  team_SEA  team_TOR  team_TOT  team_UTA  \\\n",
              "17        0.0       0.0       0.0       0.0       0.0       0.0       0.0   \n",
              "205       0.0       0.0       0.0       0.0       0.0       0.0       0.0   \n",
              "257       0.0       0.0       0.0       0.0       0.0       0.0       0.0   \n",
              "505       0.0       0.0       0.0       0.0       0.0       0.0       0.0   \n",
              "149       0.0       0.0       0.0       0.0       0.0       0.0       0.0   \n",
              "154       0.0       0.0       0.0       0.0       0.0       0.0       0.0   \n",
              "491       0.0       0.0       0.0       0.0       0.0       0.0       0.0   \n",
              "182       0.0       0.0       0.0       0.0       0.0       0.0       0.0   \n",
              "125       0.0       0.0       0.0       0.0       0.0       0.0       0.0   \n",
              "300       0.0       0.0       0.0       0.0       1.0       0.0       0.0   \n",
              "7         0.0       1.0       0.0       0.0       0.0       0.0       0.0   \n",
              "186       0.0       0.0       0.0       0.0       0.0       0.0       1.0   \n",
              "201       0.0       0.0       0.0       0.0       0.0       0.0       0.0   \n",
              "123       0.0       0.0       0.0       0.0       0.0       0.0       0.0   \n",
              "304       0.0       0.0       0.0       0.0       0.0       0.0       0.0   \n",
              "\n",
              "     team_VAN  team_WAS  team_WSB  \n",
              "17        0.0       0.0       0.0  \n",
              "205       0.0       0.0       0.0  \n",
              "257       0.0       0.0       0.0  \n",
              "505       0.0       0.0       0.0  \n",
              "149       0.0       0.0       0.0  \n",
              "154       0.0       0.0       0.0  \n",
              "491       0.0       0.0       0.0  \n",
              "182       0.0       0.0       0.0  \n",
              "125       0.0       0.0       0.0  \n",
              "300       0.0       0.0       0.0  \n",
              "7         0.0       0.0       0.0  \n",
              "186       0.0       0.0       0.0  \n",
              "201       0.0       0.0       0.0  \n",
              "123       0.0       0.0       0.0  \n",
              "304       0.0       0.0       0.0  \n",
              "\n",
              "[15 rows x 56 columns]"
            ]
          },
          "execution_count": 134,
          "metadata": {},
          "output_type": "execute_result"
        }
      ],
      "source": [
        "list_15_highest_proba = all_nba_2018_df.sort_values(ascending=False, by=['probability_going_all_nba']).head(15)\n",
        "list_15_highest_proba"
      ]
    },
    {
      "cell_type": "markdown",
      "id": "1c27683b-0256-40c5-929c-d5ed6cdf6d1f",
      "metadata": {
        "id": "1c27683b-0256-40c5-929c-d5ed6cdf6d1f"
      },
      "source": [
        "2.15. Print:\n",
        "\n",
        "    - Players actually selected from the all_nba_2018_selections dataset,\n",
        "    - Players actually selected missing from OUR predictions+\n",
        "    - Players in our predictions not selected "
      ]
    },
    {
      "cell_type": "code",
      "execution_count": 135,
      "id": "2a058763",
      "metadata": {},
      "outputs": [
        {
          "data": {
            "text/html": [
              "<div>\n",
              "<style scoped>\n",
              "    .dataframe tbody tr th:only-of-type {\n",
              "        vertical-align: middle;\n",
              "    }\n",
              "\n",
              "    .dataframe tbody tr th {\n",
              "        vertical-align: top;\n",
              "    }\n",
              "\n",
              "    .dataframe thead th {\n",
              "        text-align: right;\n",
              "    }\n",
              "</style>\n",
              "<table border=\"1\" class=\"dataframe\">\n",
              "  <thead>\n",
              "    <tr style=\"text-align: right;\">\n",
              "      <th></th>\n",
              "      <th>player</th>\n",
              "      <th>all_nba</th>\n",
              "    </tr>\n",
              "  </thead>\n",
              "  <tbody>\n",
              "    <tr>\n",
              "      <th>17</th>\n",
              "      <td>Giannis Antetokounmpo</td>\n",
              "      <td>1</td>\n",
              "    </tr>\n",
              "    <tr>\n",
              "      <th>123</th>\n",
              "      <td>Stephen Curry</td>\n",
              "      <td>1</td>\n",
              "    </tr>\n",
              "    <tr>\n",
              "      <th>149</th>\n",
              "      <td>Kevin Durant</td>\n",
              "      <td>1</td>\n",
              "    </tr>\n",
              "    <tr>\n",
              "      <th>154</th>\n",
              "      <td>Joel Embiid</td>\n",
              "      <td>1</td>\n",
              "    </tr>\n",
              "    <tr>\n",
              "      <th>182</th>\n",
              "      <td>Paul George</td>\n",
              "      <td>1</td>\n",
              "    </tr>\n",
              "    <tr>\n",
              "      <th>186</th>\n",
              "      <td>Rudy Gobert</td>\n",
              "      <td>1</td>\n",
              "    </tr>\n",
              "    <tr>\n",
              "      <th>201</th>\n",
              "      <td>Blake Griffin</td>\n",
              "      <td>1</td>\n",
              "    </tr>\n",
              "    <tr>\n",
              "      <th>205</th>\n",
              "      <td>James Harden</td>\n",
              "      <td>1</td>\n",
              "    </tr>\n",
              "    <tr>\n",
              "      <th>248</th>\n",
              "      <td>Kyrie Irving</td>\n",
              "      <td>1</td>\n",
              "    </tr>\n",
              "    <tr>\n",
              "      <th>257</th>\n",
              "      <td>LeBron James</td>\n",
              "      <td>1</td>\n",
              "    </tr>\n",
              "    <tr>\n",
              "      <th>268</th>\n",
              "      <td>Nikola Jokic</td>\n",
              "      <td>1</td>\n",
              "    </tr>\n",
              "    <tr>\n",
              "      <th>300</th>\n",
              "      <td>Kawhi Leonard</td>\n",
              "      <td>1</td>\n",
              "    </tr>\n",
              "    <tr>\n",
              "      <th>304</th>\n",
              "      <td>Damian Lillard</td>\n",
              "      <td>1</td>\n",
              "    </tr>\n",
              "    <tr>\n",
              "      <th>495</th>\n",
              "      <td>Kemba Walker</td>\n",
              "      <td>1</td>\n",
              "    </tr>\n",
              "    <tr>\n",
              "      <th>505</th>\n",
              "      <td>Russell Westbrook</td>\n",
              "      <td>1</td>\n",
              "    </tr>\n",
              "  </tbody>\n",
              "</table>\n",
              "</div>"
            ],
            "text/plain": [
              "                    player  all_nba\n",
              "17   Giannis Antetokounmpo        1\n",
              "123          Stephen Curry        1\n",
              "149           Kevin Durant        1\n",
              "154            Joel Embiid        1\n",
              "182            Paul George        1\n",
              "186            Rudy Gobert        1\n",
              "201          Blake Griffin        1\n",
              "205           James Harden        1\n",
              "248           Kyrie Irving        1\n",
              "257           LeBron James        1\n",
              "268           Nikola Jokic        1\n",
              "300          Kawhi Leonard        1\n",
              "304         Damian Lillard        1\n",
              "495           Kemba Walker        1\n",
              "505      Russell Westbrook        1"
            ]
          },
          "execution_count": 135,
          "metadata": {},
          "output_type": "execute_result"
        }
      ],
      "source": [
        "\"\"\"Players actually selected from the all_nba_2018_selections dataset\"\"\"\n",
        "actuallly_selected_df = all_nba_2018_selections[(all_nba_2018_selections['all_nba'] == 1)]\n",
        "actuallly_selected_df"
      ]
    },
    {
      "cell_type": "code",
      "execution_count": 136,
      "id": "9616eb29",
      "metadata": {},
      "outputs": [
        {
          "data": {
            "text/plain": [
              "{'Kemba Walker', 'Kyrie Irving', 'Nikola Jokic'}"
            ]
          },
          "execution_count": 136,
          "metadata": {},
          "output_type": "execute_result"
        }
      ],
      "source": [
        "\"\"\"Players actually selected missing from OUR predictions\"\"\"\n",
        "set(actuallly_selected_df[\"player\"]) - set(list_15_highest_proba[\"player\"])"
      ]
    },
    {
      "cell_type": "code",
      "execution_count": 137,
      "id": "ead3434a",
      "metadata": {},
      "outputs": [
        {
          "data": {
            "text/plain": [
              "{'Anthony Davis', 'LaMarcus Aldridge', 'Nikola Vucevic'}"
            ]
          },
          "execution_count": 137,
          "metadata": {},
          "output_type": "execute_result"
        }
      ],
      "source": [
        "\"\"\"Players in our predictions not selected \"\"\"\n",
        "set(list_15_highest_proba[\"player\"]) - set(actuallly_selected_df[\"player\"])"
      ]
    },
    {
      "cell_type": "markdown",
      "id": "66b994d0-d37a-43c2-a38f-ea5e86afa512",
      "metadata": {
        "id": "66b994d0-d37a-43c2-a38f-ea5e86afa512"
      },
      "source": [
        "2.16. Create a class named AllNbaSingleSeasonClassifier that takes a scikit learn model in the constructor, then implements a predict method that returns predictions with only the 15 most probable selections."
      ]
    },
    {
      "cell_type": "code",
      "execution_count": 138,
      "id": "5fc85317-ffc5-45e9-8740-3703b5d1aa86",
      "metadata": {
        "id": "5fc85317-ffc5-45e9-8740-3703b5d1aa86"
      },
      "outputs": [],
      "source": [
        "class AllNbaSingleSeasonClassifier():\n",
        "  def __init__(self, model):\n",
        "    \"\"\"\n",
        "    Class constructor\n",
        "    \n",
        "    Parameters\n",
        "    ----------\n",
        "    model: BaseEstimator\n",
        "      a Scikit learn estimator\n",
        "    \"\"\"\n",
        "    self._model = model\n",
        "      \n",
        "  def predict(self, X_val):\n",
        "    \"\"\"\n",
        "    Predicts all nba selections. This classifier will limit the number\n",
        "    of positive instances to 15\n",
        "    \n",
        "    Parameters\n",
        "    ----------\n",
        "    X_val: pd.DataFrame\n",
        "      a dataframe with the players data\n",
        "        \n",
        "    Returns\n",
        "    -------\n",
        "    np.ndarray\n",
        "      An array of the same length as y, with 15 true results based on the players with most probabilities of\n",
        "      beign selected\n",
        "    \"\"\"\n",
        "    player_name = X_val.player\n",
        "    \"\"\"1- Scale numerical Features\"\"\"\n",
        "    X_val[columns] = std_scaler.transform(X_val[columns])\n",
        "\n",
        "    \"\"\"2- Create the one hot encoded features for team\"\"\"\n",
        "    X_team_encoded = pd.DataFrame(encoder.transform(X_val[['team']]))\n",
        "    X_team_encoded.columns = encoder.get_feature_names_out()\n",
        "    X_val = X_val.join(X_team_encoded, how='left')\n",
        "    X_val = X_val.drop(columns=['team', 'season_id', 'player_id', 'player_season', 'player', 'season','season_start', ])\n",
        "\n",
        "    \"\"\"3- Model` predictions and selection probability\"\"\"\n",
        "    y_predicted  = self._model.predict(X_val)\n",
        "    probability_val = self._model.predict_proba(X_val)[:,1]\n",
        "    X_definitive = X_val.copy()\n",
        "    X_definitive.insert(1, 'probability_going_all_nba', probability_val.round(3) * 100)\n",
        "    X_definitive.insert(0, 'player', player_name)\n",
        "    list_15_highest_proba = X_definitive[['player', 'probability_going_all_nba']].sort_values(ascending=False, by=['probability_going_all_nba']).head(15)\n",
        "    self._y_predicted = y_predicted\n",
        "\n",
        "    return list_15_highest_proba \n",
        "\n",
        "  def metrics(self, y_val):\n",
        "    \"\"\"1- Model` metrics\n",
        "\n",
        "    y_val: pd.DataFrame\n",
        "      a dataframe with the players data (actual selections)\n",
        "    \n",
        "    \"\"\"\n",
        "    precision_val = precision_score(y_val['all_nba'], self._y_predicted )\n",
        "    recall_val = recall_score(y_val['all_nba'], self._y_predicted)\n",
        "    f1_val = f1_score(y_val['all_nba'], self._y_predicted )\n",
        "    y_val = y_val.drop(columns=['player_id' ])\n",
        "    \n",
        "    return print(f'Precision:{precision_val} , Recall:{recall_val } , f1:{f1_val } ')\n",
        "    \n",
        "        "
      ]
    },
    {
      "cell_type": "markdown",
      "id": "0d83848f-8132-4205-bc18-88b8a5f07555",
      "metadata": {
        "id": "0d83848f-8132-4205-bc18-88b8a5f07555"
      },
      "source": [
        "2.17. Use the new classifier to make predictions and evaluate the result with precision, recall and f1"
      ]
    },
    {
      "cell_type": "code",
      "execution_count": 139,
      "id": "ac440daa-8a05-4a90-8729-a48af57092bb",
      "metadata": {
        "id": "ac440daa-8a05-4a90-8729-a48af57092bb"
      },
      "outputs": [
        {
          "name": "stdout",
          "output_type": "stream",
          "text": [
            "                    player  probability_going_all_nba\n",
            "17   Giannis Antetokounmpo                      100.0\n",
            "205           James Harden                       99.9\n",
            "257           LeBron James                       99.8\n",
            "505      Russell Westbrook                       98.6\n",
            "149           Kevin Durant                       98.2\n",
            "154            Joel Embiid                       98.1\n",
            "491         Nikola Vucevic                       97.2\n",
            "182            Paul George                       96.3\n",
            "125          Anthony Davis                       96.1\n",
            "300          Kawhi Leonard                       93.3\n",
            "7        LaMarcus Aldridge                       91.5\n",
            "186            Rudy Gobert                       88.7\n",
            "201          Blake Griffin                       86.8\n",
            "123          Stephen Curry                       85.5\n",
            "304         Damian Lillard                       83.7\n",
            "Precision:0.6 , Recall:1.0 , f1:0.7499999999999999 \n"
          ]
        }
      ],
      "source": [
        "all_nba_2018_df = pd.read_csv('all_nba_2018_dataset.csv')\n",
        "all_nba_2018_selections = pd.read_csv('all_nba_2018_selections.csv')\n",
        "single_season_classifier_model = AllNbaSingleSeasonClassifier(lg_model)\n",
        "season_predictions = single_season_classifier_model.predict(all_nba_2018_df )\n",
        "print(season_predictions)\n",
        "model_metrics = single_season_classifier_model.metrics(all_nba_2018_selections)\n"
      ]
    },
    {
      "cell_type": "code",
      "execution_count": 140,
      "id": "0eb94db9",
      "metadata": {},
      "outputs": [
        {
          "data": {
            "text/plain": [
              "{'Kemba Walker', 'Kyrie Irving', 'Nikola Jokic'}"
            ]
          },
          "execution_count": 140,
          "metadata": {},
          "output_type": "execute_result"
        }
      ],
      "source": [
        "\"\"\"Players actually selected missing from OUR predictions\"\"\"\n",
        "set(actuallly_selected_df[\"player\"]) - set(season_predictions[\"player\"])"
      ]
    },
    {
      "cell_type": "code",
      "execution_count": 141,
      "id": "cc90f4f9",
      "metadata": {},
      "outputs": [
        {
          "data": {
            "text/plain": [
              "{'Anthony Davis', 'LaMarcus Aldridge', 'Nikola Vucevic'}"
            ]
          },
          "execution_count": 141,
          "metadata": {},
          "output_type": "execute_result"
        }
      ],
      "source": [
        "\"\"\"Players in our predictions not selected \"\"\"\n",
        "set(season_predictions[\"player\"]) - set(actuallly_selected_df[\"player\"])"
      ]
    },
    {
      "cell_type": "markdown",
      "id": "1dd382f9-9640-47ce-a077-41c8baeb2d9f",
      "metadata": {
        "id": "1dd382f9-9640-47ce-a077-41c8baeb2d9f",
        "tags": []
      },
      "source": [
        "#### Analyzing our results"
      ]
    },
    {
      "cell_type": "markdown",
      "id": "f4eb9454-b0d5-40f0-8cb3-0af1ce8ade34",
      "metadata": {
        "id": "f4eb9454-b0d5-40f0-8cb3-0af1ce8ade34"
      },
      "source": [
        "2.18. What do you think it is the main problem with this dataset and the way we trained our model?"
      ]
    },
    {
      "cell_type": "code",
      "execution_count": 142,
      "id": "4bbefca3-c863-4cf6-a3a3-5168ef05e43f",
      "metadata": {
        "id": "4bbefca3-c863-4cf6-a3a3-5168ef05e43f"
      },
      "outputs": [
        {
          "data": {
            "text/plain": [
              "'\\nSince the general public has 50% of the votes, and people most of the time select based on popularity and other intangibles that are not easily tranlated into statistics,\\nthe prediction gets difficult, however our model managed to get very good prediction, predicting 12 out of 15 selected to play in the all nba game in 2018, the imbalanced data was also a problem.\\nThe one-hot coding and scaling of the data helped in order to manage the imbalanced data and get better prediction, the best hyperparameter search also had an outstading impact\\non making better predictions.\\n'"
            ]
          },
          "execution_count": 142,
          "metadata": {},
          "output_type": "execute_result"
        }
      ],
      "source": [
        "\"\"\"\n",
        "Since the general public has 50% of the votes, and people most of the time select based on popularity and other intangibles that are not easily tranlated into statistics,\n",
        "the prediction gets difficult, however our model managed to get very good prediction, predicting 12 out of 15 selected to play in the all nba game in 2018, the imbalanced data was also a problem.\n",
        "The one-hot coding and scaling of the data helped in order to manage the imbalanced data and get better prediction, the best hyperparameter search also had an outstading impact\n",
        "on making better predictions.\n",
        "\"\"\""
      ]
    },
    {
      "cell_type": "markdown",
      "id": "e81ac1ea-75ab-4fee-8148-20a4ea663791",
      "metadata": {
        "id": "e81ac1ea-75ab-4fee-8148-20a4ea663791"
      },
      "source": [
        "2.19. What do you think we could do to improve our model?"
      ]
    },
    {
      "cell_type": "code",
      "execution_count": 143,
      "id": "b8f31b42-26bd-4ce4-a42d-1ceb75ba90b6",
      "metadata": {
        "id": "b8f31b42-26bd-4ce4-a42d-1ceb75ba90b6"
      },
      "outputs": [
        {
          "data": {
            "text/plain": [
              "'\\nFinding a way to measure  the intangible aspects of the players selection, such as popularity, and turn it into some kind of indicator that we can add to the data would \\nimprove the predicted outcomes greatly, adding the players position into the analysis would also enhance our model`s prediction ability.\\n'"
            ]
          },
          "execution_count": 143,
          "metadata": {},
          "output_type": "execute_result"
        }
      ],
      "source": [
        "\"\"\"\n",
        "Finding a way to measure  the intangible aspects of the players selection, such as popularity, and turn it into some kind of indicator that we can add to the data would \n",
        "improve the predicted outcomes greatly, adding the players position into the analysis would also enhance our model`s prediction ability.\n",
        "\"\"\""
      ]
    },
    {
      "cell_type": "markdown",
      "id": "0557c3f5-0e87-4a33-a1dc-fc20dd7d8fd7",
      "metadata": {
        "id": "0557c3f5-0e87-4a33-a1dc-fc20dd7d8fd7"
      },
      "source": [
        "### Optional: Oversampling"
      ]
    },
    {
      "cell_type": "markdown",
      "id": "0089fbf9-0625-4446-bf45-d00da9063b14",
      "metadata": {
        "id": "0089fbf9-0625-4446-bf45-d00da9063b14"
      },
      "source": [
        "2.20. Read about oversampling techniques, for example [SMOTE](https://imbalanced-learn.org/stable/references/generated/imblearn.over_sampling.SMOTE.html). Use this strategy to create synthetic data and retrain our model. Compare the results. "
      ]
    },
    {
      "cell_type": "code",
      "execution_count": 144,
      "id": "51a4b48d-cf26-4f14-a478-3b0afa8501dc",
      "metadata": {
        "id": "51a4b48d-cf26-4f14-a478-3b0afa8501dc"
      },
      "outputs": [
        {
          "name": "stdout",
          "output_type": "stream",
          "text": [
            "                    player  probability_going_all_nba\n",
            "17   Giannis Antetokounmpo                      100.0\n",
            "205           James Harden                      100.0\n",
            "257           LeBron James                      100.0\n",
            "149           Kevin Durant                       99.8\n",
            "125          Anthony Davis                       99.8\n",
            "154            Joel Embiid                       99.7\n",
            "505      Russell Westbrook                       99.6\n",
            "491         Nikola Vucevic                       99.4\n",
            "182            Paul George                       99.3\n",
            "7        LaMarcus Aldridge                       99.2\n",
            "300          Kawhi Leonard                       98.7\n",
            "186            Rudy Gobert                       98.2\n",
            "304         Damian Lillard                       97.8\n",
            "123          Stephen Curry                       97.5\n",
            "201          Blake Griffin                       97.5\n",
            "Precision:0.42857142857142855 , Recall:1.0 , f1:0.6 \n"
          ]
        },
        {
          "data": {
            "text/plain": [
              "'\\nwe can see how f1  and presision worsen meaning that we have more numbers of false positives and false negatives, recall stays the same meaning we have\\nmore false positives, oversampling in this case did not improve the model.\\n\\n'"
            ]
          },
          "execution_count": 144,
          "metadata": {},
          "output_type": "execute_result"
        }
      ],
      "source": [
        "sm = SMOTE(random_state=2611, sampling_strategy= 0.25)\n",
        "X_train_resampled, y_train_resampled = sm.fit_resample(X_train, y_train) # creating oversampled data\n",
        "result_lgr_sm = search_best_hyperparameters_LogisticRegression(max_iter, tols, C, X_train_resampled, y_train_resampled, X_test, y_test)\n",
        "lg_model_sm = LogisticRegression(max_iter= result_lgr_sm['hyperparameters']['max_iter'] , tol=result_lgr_sm['hyperparameters']['tols'], C=result_lgr_sm['hyperparameters']['C'], random_state=2611)\n",
        "lg_model_sm.fit(X_train_resampled, y_train_resampled) # retrain the logistic regresion model with the resampled data\n",
        "all_nba_2018_df = pd.read_csv('all_nba_2018_dataset.csv')\n",
        "all_nba_2018_selections = pd.read_csv('all_nba_2018_selections.csv')\n",
        "single_season_classifier_model = AllNbaSingleSeasonClassifier(lg_model_sm)\n",
        "season_predictions = single_season_classifier_model.predict(all_nba_2018_df )\n",
        "print(season_predictions)\n",
        "model_metrics = single_season_classifier_model.metrics(all_nba_2018_selections)\n",
        "\n",
        "\"\"\"\n",
        "we can see how f1  and presision worsen meaning that we have more numbers of false positives and false negatives, recall stays the same meaning we have\n",
        "more false positives, oversampling in this case did not improve the model.\n",
        "\n",
        "\"\"\"\n",
        "\n"
      ]
    },
    {
      "cell_type": "code",
      "execution_count": 145,
      "id": "6c528de3",
      "metadata": {},
      "outputs": [
        {
          "data": {
            "text/plain": [
              "{'Kemba Walker', 'Kyrie Irving', 'Nikola Jokic'}"
            ]
          },
          "execution_count": 145,
          "metadata": {},
          "output_type": "execute_result"
        }
      ],
      "source": [
        "\"\"\"Players actually selected missing from OUR predictions\"\"\"\n",
        "set(actuallly_selected_df[\"player\"]) - set(season_predictions[\"player\"])"
      ]
    },
    {
      "cell_type": "code",
      "execution_count": 146,
      "id": "8508161d",
      "metadata": {},
      "outputs": [
        {
          "data": {
            "text/plain": [
              "{'Anthony Davis', 'LaMarcus Aldridge', 'Nikola Vucevic'}"
            ]
          },
          "execution_count": 146,
          "metadata": {},
          "output_type": "execute_result"
        }
      ],
      "source": [
        "\"\"\"Players in our predictions not selected \"\"\"\n",
        "set(season_predictions[\"player\"]) - set(actuallly_selected_df[\"player\"])"
      ]
    },
    {
      "cell_type": "markdown",
      "id": "8b1ee0ca-0d33-490c-9725-638fbd001f02",
      "metadata": {
        "id": "8b1ee0ca-0d33-490c-9725-638fbd001f02"
      },
      "source": [
        "## 3. Optional: Developing a Linear Regressor class from scratch"
      ]
    },
    {
      "cell_type": "markdown",
      "id": "aa6d261c-5372-447d-afdf-820aaf3fef26",
      "metadata": {
        "id": "aa6d261c-5372-447d-afdf-820aaf3fef26"
      },
      "source": [
        "Our last task will be to code a Linear Regression algorithm using Gradient Descent as its optimization algorithm in Python. The structure of the class is presented below, you should use numpy for numerical computation."
      ]
    },
    {
      "cell_type": "markdown",
      "id": "8aebe22f-3a17-4404-a12f-918da6a26237",
      "metadata": {
        "id": "8aebe22f-3a17-4404-a12f-918da6a26237"
      },
      "source": [
        "3.1. Write a LinearRegression class that implements fit and predict methods, and uses gradient descent as optimization algorithm"
      ]
    },
    {
      "cell_type": "code",
      "execution_count": 351,
      "id": "b4326a55-6896-466d-9d60-3b2667e20de6",
      "metadata": {
        "id": "b4326a55-6896-466d-9d60-3b2667e20de6"
      },
      "outputs": [
        {
          "ename": "IndentationError",
          "evalue": "expected an indented block (1360654971.py, line 27)",
          "output_type": "error",
          "traceback": [
            "\u001b[1;36m  Cell \u001b[1;32mIn [351], line 27\u001b[1;36m\u001b[0m\n\u001b[1;33m    def _gradient_descent():\u001b[0m\n\u001b[1;37m    ^\u001b[0m\n\u001b[1;31mIndentationError\u001b[0m\u001b[1;31m:\u001b[0m expected an indented block\n"
          ]
        }
      ],
      "source": [
        "    \n",
        "class LinearRegressor:\n",
        "  \"\"\"Linear regression algorithm class. Implements gradient descent as optimization algorithm\"\"\"\n",
        "  \n",
        "  def __init__(self, epochs: int, learning_rate: float):\n",
        "    \"\"\"\n",
        "    Class constructor\n",
        "    \n",
        "    Parameters\n",
        "    ----------\n",
        "    epochs: int\n",
        "      number of epochs to run gradient descent\n",
        "    learning_rate: float\n",
        "      rate of update of the gradients\n",
        "    \"\"\"\n",
        "    self.epochs = epochs\n",
        "    self.learning_rate = learning_rate\n",
        "    self.w1 = 1\n",
        "    self.w0 = 0\n",
        "\n",
        "  def h(self, x):\n",
        "    return self.w0 + self.w1*x\n",
        "\n",
        "  def _loss():\n",
        "    \n",
        "\n",
        "\n",
        "  def _gradient_descent():\n",
        "    \"\"\"\n",
        "    Gradient descent algorithm\n",
        "    \"\"\"\n",
        "\n",
        "\n",
        "\n",
        "    \n",
        "\n",
        "  def fit(self, X, y):\n",
        "    \"\"\"\n",
        "    Fit the model according to the given training data.\n",
        "    \n",
        "    Parameters\n",
        "    ----------\n",
        "    X: np.ndarray\n",
        "    y: np.ndarray\n",
        "    \"\"\"\n",
        "    \n",
        "            \n",
        "  def predict(self, X):\n",
        "    \"\"\"\n",
        "    Predict\n",
        "    \n",
        "    Parameters\n",
        "    ----------\n",
        "    X: np.ndarray\n",
        "    \n",
        "    Returns\n",
        "    -------\n",
        "    np.ndarray\n",
        "      array with predictions\n",
        "    \"\"\"\n",
        "   \n"
      ]
    },
    {
      "cell_type": "code",
      "execution_count": null,
      "id": "8f7ce501-ef88-4345-8b27-e04914658bf4",
      "metadata": {
        "id": "8f7ce501-ef88-4345-8b27-e04914658bf4"
      },
      "outputs": [],
      "source": []
    },
    {
      "cell_type": "markdown",
      "id": "ac25e809-7bdf-4dfa-896a-bc4cb8964f94",
      "metadata": {
        "id": "ac25e809-7bdf-4dfa-896a-bc4cb8964f94"
      },
      "source": [
        "3.2. Train a regression model with the data from the first section to calculate players salaries using points per game. Try with a few different values (3 or 4 for each should suffice) for epochs and learning rate parameters, calculate MAE for all results and save the best result along with the parameters values used."
      ]
    },
    {
      "cell_type": "code",
      "execution_count": null,
      "id": "de1c2fe9-e67a-4399-95a1-81cbed3ada45",
      "metadata": {
        "id": "de1c2fe9-e67a-4399-95a1-81cbed3ada45"
      },
      "outputs": [],
      "source": []
    },
    {
      "cell_type": "markdown",
      "id": "ea78cfff-1216-486f-bd1e-7e42127c029d",
      "metadata": {
        "id": "ea78cfff-1216-486f-bd1e-7e42127c029d"
      },
      "source": [
        "3.3. Evaluate the model performance on the test set, and compare with the result you obtained using SGDRegressor from scikit-learn."
      ]
    }
  ],
  "metadata": {
    "colab": {
      "collapsed_sections": [],
      "provenance": []
    },
    "kernelspec": {
      "display_name": "Python 3.8.10 ('anyoneai-sprint2-Hzs07fFS-py3.8')",
      "language": "python",
      "name": "python3"
    },
    "language_info": {
      "codemirror_mode": {
        "name": "ipython",
        "version": 3
      },
      "file_extension": ".py",
      "mimetype": "text/x-python",
      "name": "python",
      "nbconvert_exporter": "python",
      "pygments_lexer": "ipython3",
      "version": "3.8.10"
    },
    "vscode": {
      "interpreter": {
        "hash": "c5d6d4870c28fc58b6cbb622de37f776ed8f288d26a0d7624d5e2d769a37a098"
      }
    }
  },
  "nbformat": 4,
  "nbformat_minor": 5
}
